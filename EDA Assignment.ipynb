{
 "cells": [
  {
   "cell_type": "code",
   "execution_count": 0,
   "metadata": {
    "colab": {},
    "colab_type": "code",
    "id": "b5mnnzhXiXcx"
   },
   "outputs": [],
   "source": [
    "from google.colab import drive"
   ]
  },
  {
   "cell_type": "code",
   "execution_count": 0,
   "metadata": {
    "colab": {
     "base_uri": "https://localhost:8080/",
     "height": 54
    },
    "colab_type": "code",
    "id": "vLXaIp5tjDZZ",
    "outputId": "d4679dad-24b4-44cf-bb0c-2b406959a1b1"
   },
   "outputs": [
    {
     "name": "stdout",
     "output_type": "stream",
     "text": [
      "Drive already mounted at /content/drive; to attempt to forcibly remount, call drive.mount(\"/content/drive\", force_remount=True).\n"
     ]
    }
   ],
   "source": [
    "drive.mount('/content/drive')"
   ]
  },
  {
   "cell_type": "code",
   "execution_count": 0,
   "metadata": {
    "colab": {},
    "colab_type": "code",
    "id": "x4GBjMrYkOKe"
   },
   "outputs": [],
   "source": [
    "import pickle\n",
    "import pandas as pd\n",
    "import seaborn as sns\n",
    "import matplotlib.pyplot as plt\n",
    "import numpy as np"
   ]
  },
  {
   "cell_type": "code",
   "execution_count": 0,
   "metadata": {
    "colab": {},
    "colab_type": "code",
    "id": "noU23dxpkZ6f"
   },
   "outputs": [],
   "source": [
    "data = pd.read_pickle('sample.pickle')"
   ]
  },
  {
   "cell_type": "code",
   "execution_count": 0,
   "metadata": {
    "colab": {
     "base_uri": "https://localhost:8080/",
     "height": 357
    },
    "colab_type": "code",
    "id": "QwD9y8kx9iGT",
    "outputId": "6131770b-e561-42ef-fac6-71f2ccd8809f"
   },
   "outputs": [
    {
     "name": "stdout",
     "output_type": "stream",
     "text": [
      "<class 'pandas.core.frame.DataFrame'>\n",
      "Int64Index: 32706 entries, 1 to 36843\n",
      "Data columns (total 15 columns):\n",
      "sku                     32284 non-null object\n",
      "customer_id             32706 non-null int64\n",
      "state_name              32706 non-null object\n",
      "district_name           32706 non-null object\n",
      "order_id                32706 non-null int64\n",
      "order_delivered_date    32706 non-null object\n",
      "supplier_name           32706 non-null object\n",
      "stock_location_name     32706 non-null object\n",
      "brand                   32284 non-null object\n",
      "product_name            32284 non-null object\n",
      "product_size            32284 non-null float64\n",
      "product_unit            32284 non-null object\n",
      "final_price             32706 non-null float64\n",
      "product_package         32284 non-null float64\n",
      "product                 32284 non-null object\n",
      "dtypes: float64(3), int64(2), object(10)\n",
      "memory usage: 5.2+ MB\n"
     ]
    }
   ],
   "source": [
    "data.info()"
   ]
  },
  {
   "cell_type": "code",
   "execution_count": 0,
   "metadata": {
    "colab": {
     "base_uri": "https://localhost:8080/",
     "height": 289
    },
    "colab_type": "code",
    "id": "1RmOHHETMVQb",
    "outputId": "6212655c-9708-47ed-d5da-7c1ff4f1a4fd"
   },
   "outputs": [
    {
     "data": {
      "text/plain": [
       "sku                     422\n",
       "customer_id               0\n",
       "state_name                0\n",
       "district_name             0\n",
       "order_id                  0\n",
       "order_delivered_date      0\n",
       "supplier_name             0\n",
       "stock_location_name       0\n",
       "brand                   422\n",
       "product_name            422\n",
       "product_size            422\n",
       "product_unit            422\n",
       "final_price               0\n",
       "product_package         422\n",
       "product                 422\n",
       "dtype: int64"
      ]
     },
     "execution_count": 62,
     "metadata": {
      "tags": []
     },
     "output_type": "execute_result"
    }
   ],
   "source": [
    "data.isnull().sum()"
   ]
  },
  {
   "cell_type": "code",
   "execution_count": 0,
   "metadata": {
    "colab": {},
    "colab_type": "code",
    "id": "ddZ-uRX9NZvF"
   },
   "outputs": [],
   "source": [
    "data.dropna(inplace = True)"
   ]
  },
  {
   "cell_type": "code",
   "execution_count": 0,
   "metadata": {
    "colab": {
     "base_uri": "https://localhost:8080/",
     "height": 289
    },
    "colab_type": "code",
    "id": "JAo4Nts4NdE1",
    "outputId": "df88c0d2-5d75-44e9-b479-1e4eba2745fe"
   },
   "outputs": [
    {
     "data": {
      "text/plain": [
       "sku                     0\n",
       "customer_id             0\n",
       "state_name              0\n",
       "district_name           0\n",
       "order_id                0\n",
       "order_delivered_date    0\n",
       "supplier_name           0\n",
       "stock_location_name     0\n",
       "brand                   0\n",
       "product_name            0\n",
       "product_size            0\n",
       "product_unit            0\n",
       "final_price             0\n",
       "product_package         0\n",
       "product                 0\n",
       "dtype: int64"
      ]
     },
     "execution_count": 64,
     "metadata": {
      "tags": []
     },
     "output_type": "execute_result"
    }
   ],
   "source": [
    "data.isnull().sum()"
   ]
  },
  {
   "cell_type": "code",
   "execution_count": 0,
   "metadata": {
    "colab": {
     "base_uri": "https://localhost:8080/",
     "height": 394
    },
    "colab_type": "code",
    "id": "FakAY6GwnLDw",
    "outputId": "a6991e5d-5bd3-4a9c-bb49-884203ac68f9"
   },
   "outputs": [
    {
     "data": {
      "text/html": [
       "<div>\n",
       "<style scoped>\n",
       "    .dataframe tbody tr th:only-of-type {\n",
       "        vertical-align: middle;\n",
       "    }\n",
       "\n",
       "    .dataframe tbody tr th {\n",
       "        vertical-align: top;\n",
       "    }\n",
       "\n",
       "    .dataframe thead th {\n",
       "        text-align: right;\n",
       "    }\n",
       "</style>\n",
       "<table border=\"1\" class=\"dataframe\">\n",
       "  <thead>\n",
       "    <tr style=\"text-align: right;\">\n",
       "      <th></th>\n",
       "      <th>sku</th>\n",
       "      <th>customer_id</th>\n",
       "      <th>state_name</th>\n",
       "      <th>district_name</th>\n",
       "      <th>order_id</th>\n",
       "      <th>order_delivered_date</th>\n",
       "      <th>supplier_name</th>\n",
       "      <th>stock_location_name</th>\n",
       "      <th>brand</th>\n",
       "      <th>product_name</th>\n",
       "      <th>product_size</th>\n",
       "      <th>product_unit</th>\n",
       "      <th>final_price</th>\n",
       "      <th>product_package</th>\n",
       "      <th>product</th>\n",
       "    </tr>\n",
       "  </thead>\n",
       "  <tbody>\n",
       "    <tr>\n",
       "      <th>1</th>\n",
       "      <td>8991002101630-ID</td>\n",
       "      <td>574548</td>\n",
       "      <td>Bekasi</td>\n",
       "      <td>Bekasi Selatan</td>\n",
       "      <td>4289963</td>\n",
       "      <td>2017/10/23 00:00:00.000</td>\n",
       "      <td>Super Indo</td>\n",
       "      <td>Super Indo Kincan</td>\n",
       "      <td>ABC</td>\n",
       "      <td>ABC Instant Powdered Milk Coffee</td>\n",
       "      <td>31.0</td>\n",
       "      <td>g</td>\n",
       "      <td>33300.0</td>\n",
       "      <td>10.0</td>\n",
       "      <td>ABC Instant Powdered Milk Coffee_31.0_g_10.0</td>\n",
       "    </tr>\n",
       "    <tr>\n",
       "      <th>3</th>\n",
       "      <td>8991002101630-ID</td>\n",
       "      <td>372740</td>\n",
       "      <td>Jakarta Utara</td>\n",
       "      <td>Penjaringan</td>\n",
       "      <td>2347168</td>\n",
       "      <td>2016/07/09 00:00:00.000</td>\n",
       "      <td>Farmers Market</td>\n",
       "      <td>Farmers Market Baywalk</td>\n",
       "      <td>ABC</td>\n",
       "      <td>ABC Instant Powdered Milk Coffee</td>\n",
       "      <td>31.0</td>\n",
       "      <td>g</td>\n",
       "      <td>25000.0</td>\n",
       "      <td>10.0</td>\n",
       "      <td>ABC Instant Powdered Milk Coffee_31.0_g_10.0</td>\n",
       "    </tr>\n",
       "    <tr>\n",
       "      <th>13</th>\n",
       "      <td>8991002101630-ID</td>\n",
       "      <td>541360</td>\n",
       "      <td>Bandung</td>\n",
       "      <td>Cinambo</td>\n",
       "      <td>3817963</td>\n",
       "      <td>2017/08/21 00:00:00.000</td>\n",
       "      <td>Super Indo</td>\n",
       "      <td>Super Indo Metro</td>\n",
       "      <td>ABC</td>\n",
       "      <td>ABC Instant Powdered Milk Coffee</td>\n",
       "      <td>31.0</td>\n",
       "      <td>g</td>\n",
       "      <td>43600.0</td>\n",
       "      <td>10.0</td>\n",
       "      <td>ABC Instant Powdered Milk Coffee_31.0_g_10.0</td>\n",
       "    </tr>\n",
       "    <tr>\n",
       "      <th>16</th>\n",
       "      <td>8991002101630-ID</td>\n",
       "      <td>220393</td>\n",
       "      <td>Jakarta Barat</td>\n",
       "      <td>Kembangan</td>\n",
       "      <td>5180538</td>\n",
       "      <td>2018/06/05 00:00:00.000</td>\n",
       "      <td>Super Indo</td>\n",
       "      <td>Super Indo Intercon</td>\n",
       "      <td>ABC</td>\n",
       "      <td>ABC Instant Powdered Milk Coffee</td>\n",
       "      <td>31.0</td>\n",
       "      <td>g</td>\n",
       "      <td>21180.0</td>\n",
       "      <td>10.0</td>\n",
       "      <td>ABC Instant Powdered Milk Coffee_31.0_g_10.0</td>\n",
       "    </tr>\n",
       "    <tr>\n",
       "      <th>17</th>\n",
       "      <td>8991002101630-ID</td>\n",
       "      <td>694874</td>\n",
       "      <td>Depok</td>\n",
       "      <td>Cimanggis</td>\n",
       "      <td>5844636</td>\n",
       "      <td>2018/09/19 00:00:00.000</td>\n",
       "      <td>Super Indo</td>\n",
       "      <td>Super Indo Cibubur</td>\n",
       "      <td>ABC</td>\n",
       "      <td>ABC Instant Powdered Milk Coffee</td>\n",
       "      <td>31.0</td>\n",
       "      <td>g</td>\n",
       "      <td>10590.0</td>\n",
       "      <td>10.0</td>\n",
       "      <td>ABC Instant Powdered Milk Coffee_31.0_g_10.0</td>\n",
       "    </tr>\n",
       "  </tbody>\n",
       "</table>\n",
       "</div>"
      ],
      "text/plain": [
       "                 sku  ...                                       product\n",
       "1   8991002101630-ID  ...  ABC Instant Powdered Milk Coffee_31.0_g_10.0\n",
       "3   8991002101630-ID  ...  ABC Instant Powdered Milk Coffee_31.0_g_10.0\n",
       "13  8991002101630-ID  ...  ABC Instant Powdered Milk Coffee_31.0_g_10.0\n",
       "16  8991002101630-ID  ...  ABC Instant Powdered Milk Coffee_31.0_g_10.0\n",
       "17  8991002101630-ID  ...  ABC Instant Powdered Milk Coffee_31.0_g_10.0\n",
       "\n",
       "[5 rows x 15 columns]"
      ]
     },
     "execution_count": 65,
     "metadata": {
      "tags": []
     },
     "output_type": "execute_result"
    }
   ],
   "source": [
    "data.head()"
   ]
  },
  {
   "cell_type": "code",
   "execution_count": 0,
   "metadata": {
    "colab": {
     "base_uri": "https://localhost:8080/",
     "height": 297
    },
    "colab_type": "code",
    "id": "5ZlRPZVA70GU",
    "outputId": "0faa22fe-d335-47c4-9b46-417540eca40b"
   },
   "outputs": [
    {
     "data": {
      "text/html": [
       "<div>\n",
       "<style scoped>\n",
       "    .dataframe tbody tr th:only-of-type {\n",
       "        vertical-align: middle;\n",
       "    }\n",
       "\n",
       "    .dataframe tbody tr th {\n",
       "        vertical-align: top;\n",
       "    }\n",
       "\n",
       "    .dataframe thead th {\n",
       "        text-align: right;\n",
       "    }\n",
       "</style>\n",
       "<table border=\"1\" class=\"dataframe\">\n",
       "  <thead>\n",
       "    <tr style=\"text-align: right;\">\n",
       "      <th></th>\n",
       "      <th>customer_id</th>\n",
       "      <th>order_id</th>\n",
       "      <th>product_size</th>\n",
       "      <th>final_price</th>\n",
       "      <th>product_package</th>\n",
       "    </tr>\n",
       "  </thead>\n",
       "  <tbody>\n",
       "    <tr>\n",
       "      <th>count</th>\n",
       "      <td>32284.000000</td>\n",
       "      <td>3.228400e+04</td>\n",
       "      <td>32284.000000</td>\n",
       "      <td>3.228400e+04</td>\n",
       "      <td>32284.000000</td>\n",
       "    </tr>\n",
       "    <tr>\n",
       "      <th>mean</th>\n",
       "      <td>409013.619967</td>\n",
       "      <td>4.335122e+06</td>\n",
       "      <td>31.998900</td>\n",
       "      <td>4.710332e+04</td>\n",
       "      <td>17.503841</td>\n",
       "    </tr>\n",
       "    <tr>\n",
       "      <th>std</th>\n",
       "      <td>234379.111651</td>\n",
       "      <td>1.641499e+06</td>\n",
       "      <td>43.491628</td>\n",
       "      <td>9.135446e+04</td>\n",
       "      <td>15.812231</td>\n",
       "    </tr>\n",
       "    <tr>\n",
       "      <th>min</th>\n",
       "      <td>60.000000</td>\n",
       "      <td>1.620700e+04</td>\n",
       "      <td>1.000000</td>\n",
       "      <td>1.617000e+03</td>\n",
       "      <td>1.000000</td>\n",
       "    </tr>\n",
       "    <tr>\n",
       "      <th>25%</th>\n",
       "      <td>209378.000000</td>\n",
       "      <td>3.250002e+06</td>\n",
       "      <td>20.000000</td>\n",
       "      <td>1.610000e+04</td>\n",
       "      <td>10.000000</td>\n",
       "    </tr>\n",
       "    <tr>\n",
       "      <th>50%</th>\n",
       "      <td>460032.000000</td>\n",
       "      <td>4.544243e+06</td>\n",
       "      <td>20.000000</td>\n",
       "      <td>2.790000e+04</td>\n",
       "      <td>15.000000</td>\n",
       "    </tr>\n",
       "    <tr>\n",
       "      <th>75%</th>\n",
       "      <td>584069.000000</td>\n",
       "      <td>5.682876e+06</td>\n",
       "      <td>25.000000</td>\n",
       "      <td>4.810000e+04</td>\n",
       "      <td>20.000000</td>\n",
       "    </tr>\n",
       "    <tr>\n",
       "      <th>max</th>\n",
       "      <td>846437.000000</td>\n",
       "      <td>6.975629e+06</td>\n",
       "      <td>453.000000</td>\n",
       "      <td>4.047000e+06</td>\n",
       "      <td>100.000000</td>\n",
       "    </tr>\n",
       "  </tbody>\n",
       "</table>\n",
       "</div>"
      ],
      "text/plain": [
       "         customer_id      order_id  product_size   final_price  product_package\n",
       "count   32284.000000  3.228400e+04  32284.000000  3.228400e+04     32284.000000\n",
       "mean   409013.619967  4.335122e+06     31.998900  4.710332e+04        17.503841\n",
       "std    234379.111651  1.641499e+06     43.491628  9.135446e+04        15.812231\n",
       "min        60.000000  1.620700e+04      1.000000  1.617000e+03         1.000000\n",
       "25%    209378.000000  3.250002e+06     20.000000  1.610000e+04        10.000000\n",
       "50%    460032.000000  4.544243e+06     20.000000  2.790000e+04        15.000000\n",
       "75%    584069.000000  5.682876e+06     25.000000  4.810000e+04        20.000000\n",
       "max    846437.000000  6.975629e+06    453.000000  4.047000e+06       100.000000"
      ]
     },
     "execution_count": 66,
     "metadata": {
      "tags": []
     },
     "output_type": "execute_result"
    }
   ],
   "source": [
    "data.describe()"
   ]
  },
  {
   "cell_type": "code",
   "execution_count": 0,
   "metadata": {
    "colab": {
     "base_uri": "https://localhost:8080/",
     "height": 34
    },
    "colab_type": "code",
    "id": "2V0JU3VykVig",
    "outputId": "1da26ee8-10e0-4b13-8c18-43330872012c"
   },
   "outputs": [
    {
     "data": {
      "text/plain": [
       "(32284, 15)"
      ]
     },
     "execution_count": 67,
     "metadata": {
      "tags": []
     },
     "output_type": "execute_result"
    }
   ],
   "source": [
    "data.shape"
   ]
  },
  {
   "cell_type": "code",
   "execution_count": 0,
   "metadata": {
    "colab": {
     "base_uri": "https://localhost:8080/",
     "height": 102
    },
    "colab_type": "code",
    "id": "5Xt3sEZqouWi",
    "outputId": "dca56758-9081-451c-f47d-14216c06dab7"
   },
   "outputs": [
    {
     "data": {
      "text/plain": [
       "Index(['sku', 'customer_id', 'state_name', 'district_name', 'order_id',\n",
       "       'order_delivered_date', 'supplier_name', 'stock_location_name', 'brand',\n",
       "       'product_name', 'product_size', 'product_unit', 'final_price',\n",
       "       'product_package', 'product'],\n",
       "      dtype='object')"
      ]
     },
     "execution_count": 68,
     "metadata": {
      "tags": []
     },
     "output_type": "execute_result"
    }
   ],
   "source": [
    "data.columns"
   ]
  },
  {
   "cell_type": "code",
   "execution_count": 0,
   "metadata": {
    "colab": {
     "base_uri": "https://localhost:8080/",
     "height": 255
    },
    "colab_type": "code",
    "id": "7fEF2UFDoxLw",
    "outputId": "a2ced39c-9d4a-4f8b-95bb-883d3660b09e"
   },
   "outputs": [
    {
     "data": {
      "text/plain": [
       "Jakarta Selatan      12531\n",
       "Tangerang Selatan     3601\n",
       "Jakarta Barat         2986\n",
       "Jakarta Pusat         2710\n",
       "Jakarta Timur         2039\n",
       "Jakarta Utara         2033\n",
       "Depok                 1500\n",
       "Bandung               1471\n",
       "Surabaya              1139\n",
       "Bekasi                1013\n",
       "Tangerang              869\n",
       "Banten                 319\n",
       "Bogor                   73\n",
       "Name: state_name, dtype: int64"
      ]
     },
     "execution_count": 96,
     "metadata": {
      "tags": []
     },
     "output_type": "execute_result"
    }
   ],
   "source": [
    "data[\"state_name\"].value_counts()"
   ]
  },
  {
   "cell_type": "code",
   "execution_count": 0,
   "metadata": {
    "colab": {
     "base_uri": "https://localhost:8080/",
     "height": 1000
    },
    "colab_type": "code",
    "id": "VvO34G84pRVm",
    "outputId": "b690ac2b-41ab-417b-e132-f9dc745cf92e"
   },
   "outputs": [
    {
     "data": {
      "text/plain": [
       "Kebayoran Baru       2370\n",
       "Setiabudi            2216\n",
       "Cilandak             1792\n",
       "Kebayoran Lama       1470\n",
       "Pondok Aren          1341\n",
       "Tanah Abang          1182\n",
       "Pasar Minggu         1132\n",
       "Kelapa Gading         903\n",
       "Tebet                 880\n",
       "Tangerang             869\n",
       "Pesanggrahan          757\n",
       "Mampang Prapatan      702\n",
       "Pancoran              689\n",
       "Ciputat Timur         685\n",
       "Ciputat               650\n",
       "Kembangan             639\n",
       "Palmerah              599\n",
       "Pulo Gadung           577\n",
       "Jagakarsa             523\n",
       "Kebon Jeruk           499\n",
       "Grogol Petamburan     454\n",
       "Cinere                418\n",
       "Tanjung Priok         398\n",
       "Penjaringan           383\n",
       "Menteng               381\n",
       "Cengkareng            361\n",
       "Serpong               327\n",
       "Banten                319\n",
       "Jatinegara            313\n",
       "Serpong Utara         304\n",
       "                     ... \n",
       "Sambikerep             31\n",
       "Genteng                30\n",
       "Pasar Rebo             30\n",
       "Wonocolo               29\n",
       "Bojongsari             28\n",
       "Cibeunying Kidul       28\n",
       "Bojongloa Kaler        26\n",
       "Setu                   25\n",
       "Wiyung                 24\n",
       "Bulak                  21\n",
       "Sawangan               20\n",
       "Karangpilang           19\n",
       "Lakarsantri            17\n",
       "Bandung Wetan          16\n",
       "Mandalajati            13\n",
       "Krembangan             12\n",
       "Jambangan              12\n",
       "Ujung Berung           11\n",
       "Sukasari                9\n",
       "Simokerto               7\n",
       "Arcamanik               7\n",
       "Panyileukan             7\n",
       "Asemrowo                6\n",
       "Gedebage                4\n",
       "Mustika Jaya            2\n",
       "Semampir                2\n",
       "Benowo                  2\n",
       "Gayungan                2\n",
       "Kenjeran                1\n",
       "Pabean Cantikan         1\n",
       "Name: district_name, Length: 132, dtype: int64"
      ]
     },
     "execution_count": 121,
     "metadata": {
      "tags": []
     },
     "output_type": "execute_result"
    }
   ],
   "source": [
    "data[\"district_name\"].value_counts()"
   ]
  },
  {
   "cell_type": "markdown",
   "metadata": {
    "colab_type": "text",
    "id": "KmDHajYwX09M"
   },
   "source": [
    "# Group By"
   ]
  },
  {
   "cell_type": "code",
   "execution_count": 0,
   "metadata": {
    "colab": {
     "base_uri": "https://localhost:8080/",
     "height": 483
    },
    "colab_type": "code",
    "id": "XMESSf9jXCuH",
    "outputId": "07e17d7d-6607-409d-b67a-7f0f309fec7d"
   },
   "outputs": [
    {
     "data": {
      "text/html": [
       "<div>\n",
       "<style scoped>\n",
       "    .dataframe tbody tr th:only-of-type {\n",
       "        vertical-align: middle;\n",
       "    }\n",
       "\n",
       "    .dataframe tbody tr th {\n",
       "        vertical-align: top;\n",
       "    }\n",
       "\n",
       "    .dataframe thead th {\n",
       "        text-align: right;\n",
       "    }\n",
       "</style>\n",
       "<table border=\"1\" class=\"dataframe\">\n",
       "  <thead>\n",
       "    <tr style=\"text-align: right;\">\n",
       "      <th></th>\n",
       "      <th>customer_id</th>\n",
       "      <th>order_id</th>\n",
       "      <th>product_size</th>\n",
       "      <th>final_price</th>\n",
       "      <th>product_package</th>\n",
       "    </tr>\n",
       "    <tr>\n",
       "      <th>state_name</th>\n",
       "      <th></th>\n",
       "      <th></th>\n",
       "      <th></th>\n",
       "      <th></th>\n",
       "      <th></th>\n",
       "    </tr>\n",
       "  </thead>\n",
       "  <tbody>\n",
       "    <tr>\n",
       "      <th>Bandung</th>\n",
       "      <td>522053.981645</td>\n",
       "      <td>4.387147e+06</td>\n",
       "      <td>31.981305</td>\n",
       "      <td>56677.925221</td>\n",
       "      <td>18.551326</td>\n",
       "    </tr>\n",
       "    <tr>\n",
       "      <th>Banten</th>\n",
       "      <td>442865.567398</td>\n",
       "      <td>3.899177e+06</td>\n",
       "      <td>44.315047</td>\n",
       "      <td>30764.128527</td>\n",
       "      <td>13.529781</td>\n",
       "    </tr>\n",
       "    <tr>\n",
       "      <th>Bekasi</th>\n",
       "      <td>407018.524186</td>\n",
       "      <td>3.911740e+06</td>\n",
       "      <td>33.411649</td>\n",
       "      <td>32200.810464</td>\n",
       "      <td>14.787759</td>\n",
       "    </tr>\n",
       "    <tr>\n",
       "      <th>Bogor</th>\n",
       "      <td>466179.917808</td>\n",
       "      <td>4.480881e+06</td>\n",
       "      <td>29.630137</td>\n",
       "      <td>25707.290411</td>\n",
       "      <td>13.027397</td>\n",
       "    </tr>\n",
       "    <tr>\n",
       "      <th>Depok</th>\n",
       "      <td>529893.157333</td>\n",
       "      <td>5.153251e+06</td>\n",
       "      <td>31.461000</td>\n",
       "      <td>35512.926667</td>\n",
       "      <td>13.443333</td>\n",
       "    </tr>\n",
       "    <tr>\n",
       "      <th>Jakarta Barat</th>\n",
       "      <td>407662.657401</td>\n",
       "      <td>4.340561e+06</td>\n",
       "      <td>32.131815</td>\n",
       "      <td>66483.605358</td>\n",
       "      <td>15.605157</td>\n",
       "    </tr>\n",
       "    <tr>\n",
       "      <th>Jakarta Pusat</th>\n",
       "      <td>401950.007749</td>\n",
       "      <td>4.301879e+06</td>\n",
       "      <td>41.933026</td>\n",
       "      <td>54025.633579</td>\n",
       "      <td>19.078598</td>\n",
       "    </tr>\n",
       "    <tr>\n",
       "      <th>Jakarta Selatan</th>\n",
       "      <td>357004.515202</td>\n",
       "      <td>4.178282e+06</td>\n",
       "      <td>31.588317</td>\n",
       "      <td>47195.616838</td>\n",
       "      <td>18.732902</td>\n",
       "    </tr>\n",
       "    <tr>\n",
       "      <th>Jakarta Timur</th>\n",
       "      <td>450389.124080</td>\n",
       "      <td>4.702545e+06</td>\n",
       "      <td>30.469838</td>\n",
       "      <td>31564.963217</td>\n",
       "      <td>13.615988</td>\n",
       "    </tr>\n",
       "    <tr>\n",
       "      <th>Jakarta Utara</th>\n",
       "      <td>408571.972946</td>\n",
       "      <td>4.123685e+06</td>\n",
       "      <td>30.143876</td>\n",
       "      <td>43269.033842</td>\n",
       "      <td>17.540089</td>\n",
       "    </tr>\n",
       "    <tr>\n",
       "      <th>Surabaya</th>\n",
       "      <td>488521.779631</td>\n",
       "      <td>4.604670e+06</td>\n",
       "      <td>30.598946</td>\n",
       "      <td>39958.146620</td>\n",
       "      <td>15.504829</td>\n",
       "    </tr>\n",
       "    <tr>\n",
       "      <th>Tangerang</th>\n",
       "      <td>437401.260069</td>\n",
       "      <td>4.760482e+06</td>\n",
       "      <td>26.983890</td>\n",
       "      <td>42390.040276</td>\n",
       "      <td>19.295742</td>\n",
       "    </tr>\n",
       "    <tr>\n",
       "      <th>Tangerang Selatan</th>\n",
       "      <td>441130.937517</td>\n",
       "      <td>4.417551e+06</td>\n",
       "      <td>28.198278</td>\n",
       "      <td>46852.912802</td>\n",
       "      <td>18.467370</td>\n",
       "    </tr>\n",
       "  </tbody>\n",
       "</table>\n",
       "</div>"
      ],
      "text/plain": [
       "                     customer_id      order_id  ...   final_price  product_package\n",
       "state_name                                      ...                               \n",
       "Bandung            522053.981645  4.387147e+06  ...  56677.925221        18.551326\n",
       "Banten             442865.567398  3.899177e+06  ...  30764.128527        13.529781\n",
       "Bekasi             407018.524186  3.911740e+06  ...  32200.810464        14.787759\n",
       "Bogor              466179.917808  4.480881e+06  ...  25707.290411        13.027397\n",
       "Depok              529893.157333  5.153251e+06  ...  35512.926667        13.443333\n",
       "Jakarta Barat      407662.657401  4.340561e+06  ...  66483.605358        15.605157\n",
       "Jakarta Pusat      401950.007749  4.301879e+06  ...  54025.633579        19.078598\n",
       "Jakarta Selatan    357004.515202  4.178282e+06  ...  47195.616838        18.732902\n",
       "Jakarta Timur      450389.124080  4.702545e+06  ...  31564.963217        13.615988\n",
       "Jakarta Utara      408571.972946  4.123685e+06  ...  43269.033842        17.540089\n",
       "Surabaya           488521.779631  4.604670e+06  ...  39958.146620        15.504829\n",
       "Tangerang          437401.260069  4.760482e+06  ...  42390.040276        19.295742\n",
       "Tangerang Selatan  441130.937517  4.417551e+06  ...  46852.912802        18.467370\n",
       "\n",
       "[13 rows x 5 columns]"
      ]
     },
     "execution_count": 115,
     "metadata": {
      "tags": []
     },
     "output_type": "execute_result"
    }
   ],
   "source": [
    "grp_state= data.groupby('state_name')\n",
    "grp_state.mean()"
   ]
  },
  {
   "cell_type": "code",
   "execution_count": 0,
   "metadata": {
    "colab": {
     "base_uri": "https://localhost:8080/",
     "height": 2000
    },
    "colab_type": "code",
    "id": "ljhu0nI2XZoG",
    "outputId": "97b45e5f-91d3-4155-da34-266c614a8cdd"
   },
   "outputs": [
    {
     "data": {
      "text/html": [
       "<div>\n",
       "<style scoped>\n",
       "    .dataframe tbody tr th:only-of-type {\n",
       "        vertical-align: middle;\n",
       "    }\n",
       "\n",
       "    .dataframe tbody tr th {\n",
       "        vertical-align: top;\n",
       "    }\n",
       "\n",
       "    .dataframe thead th {\n",
       "        text-align: right;\n",
       "    }\n",
       "</style>\n",
       "<table border=\"1\" class=\"dataframe\">\n",
       "  <thead>\n",
       "    <tr style=\"text-align: right;\">\n",
       "      <th></th>\n",
       "      <th>customer_id</th>\n",
       "      <th>order_id</th>\n",
       "      <th>product_size</th>\n",
       "      <th>product_package</th>\n",
       "    </tr>\n",
       "    <tr>\n",
       "      <th>final_price</th>\n",
       "      <th></th>\n",
       "      <th></th>\n",
       "      <th></th>\n",
       "      <th></th>\n",
       "    </tr>\n",
       "  </thead>\n",
       "  <tbody>\n",
       "    <tr>\n",
       "      <th>1617.0</th>\n",
       "      <td>462958.666667</td>\n",
       "      <td>4.692609e+06</td>\n",
       "      <td>240.000000</td>\n",
       "      <td>1.000000</td>\n",
       "    </tr>\n",
       "    <tr>\n",
       "      <th>1947.0</th>\n",
       "      <td>43949.000000</td>\n",
       "      <td>1.242810e+05</td>\n",
       "      <td>240.000000</td>\n",
       "      <td>1.000000</td>\n",
       "    </tr>\n",
       "    <tr>\n",
       "      <th>2800.0</th>\n",
       "      <td>165865.000000</td>\n",
       "      <td>7.314540e+05</td>\n",
       "      <td>31.000000</td>\n",
       "      <td>4.000000</td>\n",
       "    </tr>\n",
       "    <tr>\n",
       "      <th>3234.0</th>\n",
       "      <td>571667.000000</td>\n",
       "      <td>5.148038e+06</td>\n",
       "      <td>240.000000</td>\n",
       "      <td>1.000000</td>\n",
       "    </tr>\n",
       "    <tr>\n",
       "      <th>3600.0</th>\n",
       "      <td>331627.000000</td>\n",
       "      <td>5.819119e+06</td>\n",
       "      <td>200.000000</td>\n",
       "      <td>1.000000</td>\n",
       "    </tr>\n",
       "    <tr>\n",
       "      <th>3690.0</th>\n",
       "      <td>625303.000000</td>\n",
       "      <td>5.321606e+06</td>\n",
       "      <td>200.000000</td>\n",
       "      <td>1.000000</td>\n",
       "    </tr>\n",
       "    <tr>\n",
       "      <th>3800.0</th>\n",
       "      <td>659909.000000</td>\n",
       "      <td>5.499818e+06</td>\n",
       "      <td>230.000000</td>\n",
       "      <td>1.000000</td>\n",
       "    </tr>\n",
       "    <tr>\n",
       "      <th>3894.0</th>\n",
       "      <td>392548.461538</td>\n",
       "      <td>5.135307e+06</td>\n",
       "      <td>240.000000</td>\n",
       "      <td>1.000000</td>\n",
       "    </tr>\n",
       "    <tr>\n",
       "      <th>3975.0</th>\n",
       "      <td>678950.000000</td>\n",
       "      <td>5.704990e+06</td>\n",
       "      <td>30.000000</td>\n",
       "      <td>5.000000</td>\n",
       "    </tr>\n",
       "    <tr>\n",
       "      <th>3990.0</th>\n",
       "      <td>769200.000000</td>\n",
       "      <td>6.436348e+06</td>\n",
       "      <td>200.000000</td>\n",
       "      <td>1.000000</td>\n",
       "    </tr>\n",
       "    <tr>\n",
       "      <th>4000.0</th>\n",
       "      <td>341448.600000</td>\n",
       "      <td>3.685332e+06</td>\n",
       "      <td>182.000000</td>\n",
       "      <td>1.000000</td>\n",
       "    </tr>\n",
       "    <tr>\n",
       "      <th>4100.0</th>\n",
       "      <td>311692.000000</td>\n",
       "      <td>4.871849e+06</td>\n",
       "      <td>200.000000</td>\n",
       "      <td>1.000000</td>\n",
       "    </tr>\n",
       "    <tr>\n",
       "      <th>4200.0</th>\n",
       "      <td>434759.142857</td>\n",
       "      <td>3.331231e+06</td>\n",
       "      <td>175.857143</td>\n",
       "      <td>1.428571</td>\n",
       "    </tr>\n",
       "    <tr>\n",
       "      <th>4300.0</th>\n",
       "      <td>536378.250000</td>\n",
       "      <td>4.881736e+06</td>\n",
       "      <td>200.000000</td>\n",
       "      <td>1.000000</td>\n",
       "    </tr>\n",
       "    <tr>\n",
       "      <th>4400.0</th>\n",
       "      <td>313632.300000</td>\n",
       "      <td>3.492319e+06</td>\n",
       "      <td>182.500000</td>\n",
       "      <td>1.400000</td>\n",
       "    </tr>\n",
       "    <tr>\n",
       "      <th>4490.0</th>\n",
       "      <td>573488.250000</td>\n",
       "      <td>4.989577e+06</td>\n",
       "      <td>200.000000</td>\n",
       "      <td>1.000000</td>\n",
       "    </tr>\n",
       "    <tr>\n",
       "      <th>4500.0</th>\n",
       "      <td>591244.500000</td>\n",
       "      <td>5.811290e+06</td>\n",
       "      <td>200.000000</td>\n",
       "      <td>1.000000</td>\n",
       "    </tr>\n",
       "    <tr>\n",
       "      <th>4590.0</th>\n",
       "      <td>354546.000000</td>\n",
       "      <td>5.158048e+06</td>\n",
       "      <td>200.000000</td>\n",
       "      <td>1.000000</td>\n",
       "    </tr>\n",
       "    <tr>\n",
       "      <th>4600.0</th>\n",
       "      <td>424767.500000</td>\n",
       "      <td>4.324909e+06</td>\n",
       "      <td>216.666667</td>\n",
       "      <td>1.000000</td>\n",
       "    </tr>\n",
       "    <tr>\n",
       "      <th>4650.0</th>\n",
       "      <td>536110.000000</td>\n",
       "      <td>6.349013e+06</td>\n",
       "      <td>20.000000</td>\n",
       "      <td>5.000000</td>\n",
       "    </tr>\n",
       "    <tr>\n",
       "      <th>4675.0</th>\n",
       "      <td>742809.666667</td>\n",
       "      <td>6.429073e+06</td>\n",
       "      <td>20.000000</td>\n",
       "      <td>5.000000</td>\n",
       "    </tr>\n",
       "    <tr>\n",
       "      <th>4700.0</th>\n",
       "      <td>485055.588235</td>\n",
       "      <td>4.885912e+06</td>\n",
       "      <td>136.470588</td>\n",
       "      <td>2.411765</td>\n",
       "    </tr>\n",
       "    <tr>\n",
       "      <th>4790.0</th>\n",
       "      <td>621721.333333</td>\n",
       "      <td>6.124556e+06</td>\n",
       "      <td>200.000000</td>\n",
       "      <td>1.000000</td>\n",
       "    </tr>\n",
       "    <tr>\n",
       "      <th>4800.0</th>\n",
       "      <td>407447.266667</td>\n",
       "      <td>3.667501e+06</td>\n",
       "      <td>200.000000</td>\n",
       "      <td>1.000000</td>\n",
       "    </tr>\n",
       "    <tr>\n",
       "      <th>4851.0</th>\n",
       "      <td>591064.000000</td>\n",
       "      <td>5.143496e+06</td>\n",
       "      <td>240.000000</td>\n",
       "      <td>1.000000</td>\n",
       "    </tr>\n",
       "    <tr>\n",
       "      <th>4900.0</th>\n",
       "      <td>281841.333333</td>\n",
       "      <td>3.612630e+06</td>\n",
       "      <td>163.666667</td>\n",
       "      <td>2.000000</td>\n",
       "    </tr>\n",
       "    <tr>\n",
       "      <th>5000.0</th>\n",
       "      <td>574633.666667</td>\n",
       "      <td>5.191509e+06</td>\n",
       "      <td>31.000000</td>\n",
       "      <td>4.666667</td>\n",
       "    </tr>\n",
       "    <tr>\n",
       "      <th>5100.0</th>\n",
       "      <td>540696.600000</td>\n",
       "      <td>4.129023e+06</td>\n",
       "      <td>164.000000</td>\n",
       "      <td>1.800000</td>\n",
       "    </tr>\n",
       "    <tr>\n",
       "      <th>5175.0</th>\n",
       "      <td>732647.800000</td>\n",
       "      <td>6.305216e+06</td>\n",
       "      <td>20.000000</td>\n",
       "      <td>5.000000</td>\n",
       "    </tr>\n",
       "    <tr>\n",
       "      <th>5200.0</th>\n",
       "      <td>532962.000000</td>\n",
       "      <td>4.982659e+06</td>\n",
       "      <td>101.375000</td>\n",
       "      <td>3.375000</td>\n",
       "    </tr>\n",
       "    <tr>\n",
       "      <th>...</th>\n",
       "      <td>...</td>\n",
       "      <td>...</td>\n",
       "      <td>...</td>\n",
       "      <td>...</td>\n",
       "    </tr>\n",
       "    <tr>\n",
       "      <th>1199700.0</th>\n",
       "      <td>571662.000000</td>\n",
       "      <td>4.584127e+06</td>\n",
       "      <td>25.000000</td>\n",
       "      <td>20.000000</td>\n",
       "    </tr>\n",
       "    <tr>\n",
       "      <th>1245000.0</th>\n",
       "      <td>571662.000000</td>\n",
       "      <td>4.372544e+06</td>\n",
       "      <td>25.000000</td>\n",
       "      <td>20.000000</td>\n",
       "    </tr>\n",
       "    <tr>\n",
       "      <th>1251900.0</th>\n",
       "      <td>571662.000000</td>\n",
       "      <td>4.911301e+06</td>\n",
       "      <td>20.000000</td>\n",
       "      <td>100.000000</td>\n",
       "    </tr>\n",
       "    <tr>\n",
       "      <th>1284500.0</th>\n",
       "      <td>571662.000000</td>\n",
       "      <td>4.839611e+06</td>\n",
       "      <td>20.000000</td>\n",
       "      <td>20.000000</td>\n",
       "    </tr>\n",
       "    <tr>\n",
       "      <th>1287000.0</th>\n",
       "      <td>571662.000000</td>\n",
       "      <td>5.031427e+06</td>\n",
       "      <td>20.000000</td>\n",
       "      <td>30.000000</td>\n",
       "    </tr>\n",
       "    <tr>\n",
       "      <th>1289500.0</th>\n",
       "      <td>571662.000000</td>\n",
       "      <td>5.381510e+06</td>\n",
       "      <td>20.000000</td>\n",
       "      <td>20.000000</td>\n",
       "    </tr>\n",
       "    <tr>\n",
       "      <th>1333000.0</th>\n",
       "      <td>653284.000000</td>\n",
       "      <td>5.420683e+06</td>\n",
       "      <td>20.000000</td>\n",
       "      <td>100.000000</td>\n",
       "    </tr>\n",
       "    <tr>\n",
       "      <th>1347000.0</th>\n",
       "      <td>539607.000000</td>\n",
       "      <td>3.930384e+06</td>\n",
       "      <td>22.500000</td>\n",
       "      <td>15.000000</td>\n",
       "    </tr>\n",
       "    <tr>\n",
       "      <th>1395600.0</th>\n",
       "      <td>571662.000000</td>\n",
       "      <td>6.018399e+06</td>\n",
       "      <td>20.000000</td>\n",
       "      <td>30.000000</td>\n",
       "    </tr>\n",
       "    <tr>\n",
       "      <th>1398020.0</th>\n",
       "      <td>571662.000000</td>\n",
       "      <td>4.839611e+06</td>\n",
       "      <td>20.000000</td>\n",
       "      <td>30.000000</td>\n",
       "    </tr>\n",
       "    <tr>\n",
       "      <th>1416240.0</th>\n",
       "      <td>571662.000000</td>\n",
       "      <td>6.472218e+06</td>\n",
       "      <td>20.000000</td>\n",
       "      <td>20.000000</td>\n",
       "    </tr>\n",
       "    <tr>\n",
       "      <th>1427600.0</th>\n",
       "      <td>571662.000000</td>\n",
       "      <td>4.770010e+06</td>\n",
       "      <td>20.000000</td>\n",
       "      <td>30.000000</td>\n",
       "    </tr>\n",
       "    <tr>\n",
       "      <th>1459500.0</th>\n",
       "      <td>571662.000000</td>\n",
       "      <td>4.545174e+06</td>\n",
       "      <td>25.000000</td>\n",
       "      <td>20.000000</td>\n",
       "    </tr>\n",
       "    <tr>\n",
       "      <th>1500000.0</th>\n",
       "      <td>253910.000000</td>\n",
       "      <td>4.720921e+06</td>\n",
       "      <td>20.000000</td>\n",
       "      <td>100.000000</td>\n",
       "    </tr>\n",
       "    <tr>\n",
       "      <th>1606050.0</th>\n",
       "      <td>571662.000000</td>\n",
       "      <td>4.712540e+06</td>\n",
       "      <td>20.000000</td>\n",
       "      <td>30.000000</td>\n",
       "    </tr>\n",
       "    <tr>\n",
       "      <th>1607600.0</th>\n",
       "      <td>571662.000000</td>\n",
       "      <td>4.712540e+06</td>\n",
       "      <td>25.000000</td>\n",
       "      <td>20.000000</td>\n",
       "    </tr>\n",
       "    <tr>\n",
       "      <th>1615600.0</th>\n",
       "      <td>571662.000000</td>\n",
       "      <td>6.108810e+06</td>\n",
       "      <td>25.000000</td>\n",
       "      <td>20.000000</td>\n",
       "    </tr>\n",
       "    <tr>\n",
       "      <th>1631700.0</th>\n",
       "      <td>571662.000000</td>\n",
       "      <td>4.820908e+06</td>\n",
       "      <td>25.000000</td>\n",
       "      <td>30.000000</td>\n",
       "    </tr>\n",
       "    <tr>\n",
       "      <th>1696000.0</th>\n",
       "      <td>571662.000000</td>\n",
       "      <td>4.796780e+06</td>\n",
       "      <td>20.000000</td>\n",
       "      <td>30.000000</td>\n",
       "    </tr>\n",
       "    <tr>\n",
       "      <th>1744500.0</th>\n",
       "      <td>571662.000000</td>\n",
       "      <td>5.789120e+06</td>\n",
       "      <td>20.000000</td>\n",
       "      <td>30.000000</td>\n",
       "    </tr>\n",
       "    <tr>\n",
       "      <th>1799500.0</th>\n",
       "      <td>571662.000000</td>\n",
       "      <td>6.458494e+06</td>\n",
       "      <td>20.000000</td>\n",
       "      <td>30.000000</td>\n",
       "    </tr>\n",
       "    <tr>\n",
       "      <th>1889550.0</th>\n",
       "      <td>571662.000000</td>\n",
       "      <td>4.770010e+06</td>\n",
       "      <td>25.000000</td>\n",
       "      <td>20.000000</td>\n",
       "    </tr>\n",
       "    <tr>\n",
       "      <th>2019500.0</th>\n",
       "      <td>571662.000000</td>\n",
       "      <td>5.851443e+06</td>\n",
       "      <td>25.000000</td>\n",
       "      <td>20.000000</td>\n",
       "    </tr>\n",
       "    <tr>\n",
       "      <th>2099500.0</th>\n",
       "      <td>571662.000000</td>\n",
       "      <td>6.458494e+06</td>\n",
       "      <td>25.000000</td>\n",
       "      <td>20.000000</td>\n",
       "    </tr>\n",
       "    <tr>\n",
       "      <th>2245000.0</th>\n",
       "      <td>571662.000000</td>\n",
       "      <td>5.239572e+06</td>\n",
       "      <td>25.000000</td>\n",
       "      <td>20.000000</td>\n",
       "    </tr>\n",
       "    <tr>\n",
       "      <th>2423400.0</th>\n",
       "      <td>571662.000000</td>\n",
       "      <td>5.476418e+06</td>\n",
       "      <td>25.000000</td>\n",
       "      <td>20.000000</td>\n",
       "    </tr>\n",
       "    <tr>\n",
       "      <th>2550000.0</th>\n",
       "      <td>571662.000000</td>\n",
       "      <td>5.192465e+06</td>\n",
       "      <td>25.000000</td>\n",
       "      <td>20.000000</td>\n",
       "    </tr>\n",
       "    <tr>\n",
       "      <th>3338400.0</th>\n",
       "      <td>571662.000000</td>\n",
       "      <td>5.031427e+06</td>\n",
       "      <td>20.000000</td>\n",
       "      <td>100.000000</td>\n",
       "    </tr>\n",
       "    <tr>\n",
       "      <th>3642500.0</th>\n",
       "      <td>571662.000000</td>\n",
       "      <td>4.259491e+06</td>\n",
       "      <td>20.000000</td>\n",
       "      <td>100.000000</td>\n",
       "    </tr>\n",
       "    <tr>\n",
       "      <th>4047000.0</th>\n",
       "      <td>571662.000000</td>\n",
       "      <td>4.372544e+06</td>\n",
       "      <td>20.000000</td>\n",
       "      <td>100.000000</td>\n",
       "    </tr>\n",
       "  </tbody>\n",
       "</table>\n",
       "<p>2539 rows × 4 columns</p>\n",
       "</div>"
      ],
      "text/plain": [
       "               customer_id      order_id  product_size  product_package\n",
       "final_price                                                            \n",
       "1617.0       462958.666667  4.692609e+06    240.000000         1.000000\n",
       "1947.0        43949.000000  1.242810e+05    240.000000         1.000000\n",
       "2800.0       165865.000000  7.314540e+05     31.000000         4.000000\n",
       "3234.0       571667.000000  5.148038e+06    240.000000         1.000000\n",
       "3600.0       331627.000000  5.819119e+06    200.000000         1.000000\n",
       "3690.0       625303.000000  5.321606e+06    200.000000         1.000000\n",
       "3800.0       659909.000000  5.499818e+06    230.000000         1.000000\n",
       "3894.0       392548.461538  5.135307e+06    240.000000         1.000000\n",
       "3975.0       678950.000000  5.704990e+06     30.000000         5.000000\n",
       "3990.0       769200.000000  6.436348e+06    200.000000         1.000000\n",
       "4000.0       341448.600000  3.685332e+06    182.000000         1.000000\n",
       "4100.0       311692.000000  4.871849e+06    200.000000         1.000000\n",
       "4200.0       434759.142857  3.331231e+06    175.857143         1.428571\n",
       "4300.0       536378.250000  4.881736e+06    200.000000         1.000000\n",
       "4400.0       313632.300000  3.492319e+06    182.500000         1.400000\n",
       "4490.0       573488.250000  4.989577e+06    200.000000         1.000000\n",
       "4500.0       591244.500000  5.811290e+06    200.000000         1.000000\n",
       "4590.0       354546.000000  5.158048e+06    200.000000         1.000000\n",
       "4600.0       424767.500000  4.324909e+06    216.666667         1.000000\n",
       "4650.0       536110.000000  6.349013e+06     20.000000         5.000000\n",
       "4675.0       742809.666667  6.429073e+06     20.000000         5.000000\n",
       "4700.0       485055.588235  4.885912e+06    136.470588         2.411765\n",
       "4790.0       621721.333333  6.124556e+06    200.000000         1.000000\n",
       "4800.0       407447.266667  3.667501e+06    200.000000         1.000000\n",
       "4851.0       591064.000000  5.143496e+06    240.000000         1.000000\n",
       "4900.0       281841.333333  3.612630e+06    163.666667         2.000000\n",
       "5000.0       574633.666667  5.191509e+06     31.000000         4.666667\n",
       "5100.0       540696.600000  4.129023e+06    164.000000         1.800000\n",
       "5175.0       732647.800000  6.305216e+06     20.000000         5.000000\n",
       "5200.0       532962.000000  4.982659e+06    101.375000         3.375000\n",
       "...                    ...           ...           ...              ...\n",
       "1199700.0    571662.000000  4.584127e+06     25.000000        20.000000\n",
       "1245000.0    571662.000000  4.372544e+06     25.000000        20.000000\n",
       "1251900.0    571662.000000  4.911301e+06     20.000000       100.000000\n",
       "1284500.0    571662.000000  4.839611e+06     20.000000        20.000000\n",
       "1287000.0    571662.000000  5.031427e+06     20.000000        30.000000\n",
       "1289500.0    571662.000000  5.381510e+06     20.000000        20.000000\n",
       "1333000.0    653284.000000  5.420683e+06     20.000000       100.000000\n",
       "1347000.0    539607.000000  3.930384e+06     22.500000        15.000000\n",
       "1395600.0    571662.000000  6.018399e+06     20.000000        30.000000\n",
       "1398020.0    571662.000000  4.839611e+06     20.000000        30.000000\n",
       "1416240.0    571662.000000  6.472218e+06     20.000000        20.000000\n",
       "1427600.0    571662.000000  4.770010e+06     20.000000        30.000000\n",
       "1459500.0    571662.000000  4.545174e+06     25.000000        20.000000\n",
       "1500000.0    253910.000000  4.720921e+06     20.000000       100.000000\n",
       "1606050.0    571662.000000  4.712540e+06     20.000000        30.000000\n",
       "1607600.0    571662.000000  4.712540e+06     25.000000        20.000000\n",
       "1615600.0    571662.000000  6.108810e+06     25.000000        20.000000\n",
       "1631700.0    571662.000000  4.820908e+06     25.000000        30.000000\n",
       "1696000.0    571662.000000  4.796780e+06     20.000000        30.000000\n",
       "1744500.0    571662.000000  5.789120e+06     20.000000        30.000000\n",
       "1799500.0    571662.000000  6.458494e+06     20.000000        30.000000\n",
       "1889550.0    571662.000000  4.770010e+06     25.000000        20.000000\n",
       "2019500.0    571662.000000  5.851443e+06     25.000000        20.000000\n",
       "2099500.0    571662.000000  6.458494e+06     25.000000        20.000000\n",
       "2245000.0    571662.000000  5.239572e+06     25.000000        20.000000\n",
       "2423400.0    571662.000000  5.476418e+06     25.000000        20.000000\n",
       "2550000.0    571662.000000  5.192465e+06     25.000000        20.000000\n",
       "3338400.0    571662.000000  5.031427e+06     20.000000       100.000000\n",
       "3642500.0    571662.000000  4.259491e+06     20.000000       100.000000\n",
       "4047000.0    571662.000000  4.372544e+06     20.000000       100.000000\n",
       "\n",
       "[2539 rows x 4 columns]"
      ]
     },
     "execution_count": 118,
     "metadata": {
      "tags": []
     },
     "output_type": "execute_result"
    }
   ],
   "source": [
    "grp_price = data.groupby('final_price')\n",
    "grp_price.mean()"
   ]
  },
  {
   "cell_type": "code",
   "execution_count": 0,
   "metadata": {
    "colab": {
     "base_uri": "https://localhost:8080/",
     "height": 2000
    },
    "colab_type": "code",
    "id": "n1zmQenyX8Ok",
    "outputId": "dc2c8bf2-e752-43e4-9ebb-378e866d6003"
   },
   "outputs": [
    {
     "data": {
      "text/html": [
       "<div>\n",
       "<style scoped>\n",
       "    .dataframe tbody tr th:only-of-type {\n",
       "        vertical-align: middle;\n",
       "    }\n",
       "\n",
       "    .dataframe tbody tr th {\n",
       "        vertical-align: top;\n",
       "    }\n",
       "\n",
       "    .dataframe thead th {\n",
       "        text-align: right;\n",
       "    }\n",
       "</style>\n",
       "<table border=\"1\" class=\"dataframe\">\n",
       "  <thead>\n",
       "    <tr style=\"text-align: right;\">\n",
       "      <th></th>\n",
       "      <th>customer_id</th>\n",
       "      <th>order_id</th>\n",
       "      <th>product_size</th>\n",
       "      <th>final_price</th>\n",
       "      <th>product_package</th>\n",
       "    </tr>\n",
       "    <tr>\n",
       "      <th>district_name</th>\n",
       "      <th></th>\n",
       "      <th></th>\n",
       "      <th></th>\n",
       "      <th></th>\n",
       "      <th></th>\n",
       "    </tr>\n",
       "  </thead>\n",
       "  <tbody>\n",
       "    <tr>\n",
       "      <th>Andir</th>\n",
       "      <td>561852.115385</td>\n",
       "      <td>4.556268e+06</td>\n",
       "      <td>38.778846</td>\n",
       "      <td>59716.153846</td>\n",
       "      <td>17.096154</td>\n",
       "    </tr>\n",
       "    <tr>\n",
       "      <th>Antapani (Cicadas)</th>\n",
       "      <td>496651.841270</td>\n",
       "      <td>4.572648e+06</td>\n",
       "      <td>78.571429</td>\n",
       "      <td>44811.809524</td>\n",
       "      <td>11.968254</td>\n",
       "    </tr>\n",
       "    <tr>\n",
       "      <th>Arcamanik</th>\n",
       "      <td>463656.428571</td>\n",
       "      <td>3.879666e+06</td>\n",
       "      <td>51.285714</td>\n",
       "      <td>72397.142857</td>\n",
       "      <td>11.571429</td>\n",
       "    </tr>\n",
       "    <tr>\n",
       "      <th>Asemrowo</th>\n",
       "      <td>595742.833333</td>\n",
       "      <td>5.454568e+06</td>\n",
       "      <td>50.000000</td>\n",
       "      <td>23155.166667</td>\n",
       "      <td>13.500000</td>\n",
       "    </tr>\n",
       "    <tr>\n",
       "      <th>Astana Anyar</th>\n",
       "      <td>528161.779661</td>\n",
       "      <td>4.446353e+06</td>\n",
       "      <td>40.262712</td>\n",
       "      <td>46010.491525</td>\n",
       "      <td>18.542373</td>\n",
       "    </tr>\n",
       "    <tr>\n",
       "      <th>Babakan Ciparay</th>\n",
       "      <td>500492.965517</td>\n",
       "      <td>3.627198e+06</td>\n",
       "      <td>29.362069</td>\n",
       "      <td>41018.189655</td>\n",
       "      <td>23.034483</td>\n",
       "    </tr>\n",
       "    <tr>\n",
       "      <th>Bandung Kidul</th>\n",
       "      <td>508169.288889</td>\n",
       "      <td>3.819459e+06</td>\n",
       "      <td>25.488889</td>\n",
       "      <td>41712.888889</td>\n",
       "      <td>18.888889</td>\n",
       "    </tr>\n",
       "    <tr>\n",
       "      <th>Bandung Kulon</th>\n",
       "      <td>520630.744681</td>\n",
       "      <td>4.303914e+06</td>\n",
       "      <td>26.833333</td>\n",
       "      <td>61466.524823</td>\n",
       "      <td>18.134752</td>\n",
       "    </tr>\n",
       "    <tr>\n",
       "      <th>Bandung Wetan</th>\n",
       "      <td>580256.937500</td>\n",
       "      <td>4.059098e+06</td>\n",
       "      <td>49.750000</td>\n",
       "      <td>24962.000000</td>\n",
       "      <td>12.875000</td>\n",
       "    </tr>\n",
       "    <tr>\n",
       "      <th>Banten</th>\n",
       "      <td>442865.567398</td>\n",
       "      <td>3.899177e+06</td>\n",
       "      <td>44.315047</td>\n",
       "      <td>30764.128527</td>\n",
       "      <td>13.529781</td>\n",
       "    </tr>\n",
       "    <tr>\n",
       "      <th>Batununggal</th>\n",
       "      <td>597819.019011</td>\n",
       "      <td>5.623280e+06</td>\n",
       "      <td>23.410646</td>\n",
       "      <td>119744.809886</td>\n",
       "      <td>28.418251</td>\n",
       "    </tr>\n",
       "    <tr>\n",
       "      <th>Beji</th>\n",
       "      <td>601164.912281</td>\n",
       "      <td>5.718307e+06</td>\n",
       "      <td>39.578947</td>\n",
       "      <td>28452.745614</td>\n",
       "      <td>12.078947</td>\n",
       "    </tr>\n",
       "    <tr>\n",
       "      <th>Bekasi Barat</th>\n",
       "      <td>391523.573913</td>\n",
       "      <td>3.467055e+06</td>\n",
       "      <td>25.600000</td>\n",
       "      <td>29090.067826</td>\n",
       "      <td>14.478261</td>\n",
       "    </tr>\n",
       "    <tr>\n",
       "      <th>Bekasi Selatan</th>\n",
       "      <td>407328.302326</td>\n",
       "      <td>3.946429e+06</td>\n",
       "      <td>51.753488</td>\n",
       "      <td>39519.814884</td>\n",
       "      <td>15.604651</td>\n",
       "    </tr>\n",
       "    <tr>\n",
       "      <th>Bekasi Timur</th>\n",
       "      <td>425589.308642</td>\n",
       "      <td>3.146240e+06</td>\n",
       "      <td>21.024691</td>\n",
       "      <td>39825.925926</td>\n",
       "      <td>18.802469</td>\n",
       "    </tr>\n",
       "    <tr>\n",
       "      <th>Bekasi Utara</th>\n",
       "      <td>408769.272727</td>\n",
       "      <td>3.154440e+06</td>\n",
       "      <td>21.340909</td>\n",
       "      <td>28527.977273</td>\n",
       "      <td>14.943182</td>\n",
       "    </tr>\n",
       "    <tr>\n",
       "      <th>Benowo</th>\n",
       "      <td>821556.000000</td>\n",
       "      <td>6.875753e+06</td>\n",
       "      <td>30.000000</td>\n",
       "      <td>15402.000000</td>\n",
       "      <td>13.500000</td>\n",
       "    </tr>\n",
       "    <tr>\n",
       "      <th>Bogor Timur</th>\n",
       "      <td>466179.917808</td>\n",
       "      <td>4.480881e+06</td>\n",
       "      <td>29.630137</td>\n",
       "      <td>25707.290411</td>\n",
       "      <td>13.027397</td>\n",
       "    </tr>\n",
       "    <tr>\n",
       "      <th>Bojongloa Kaler</th>\n",
       "      <td>477103.576923</td>\n",
       "      <td>3.953842e+06</td>\n",
       "      <td>22.269231</td>\n",
       "      <td>23265.807692</td>\n",
       "      <td>16.846154</td>\n",
       "    </tr>\n",
       "    <tr>\n",
       "      <th>Bojongloa Kidul</th>\n",
       "      <td>415125.459459</td>\n",
       "      <td>3.535627e+06</td>\n",
       "      <td>28.648649</td>\n",
       "      <td>31838.648649</td>\n",
       "      <td>16.108108</td>\n",
       "    </tr>\n",
       "    <tr>\n",
       "      <th>Bojongsari</th>\n",
       "      <td>580108.642857</td>\n",
       "      <td>6.117532e+06</td>\n",
       "      <td>23.142857</td>\n",
       "      <td>31580.642857</td>\n",
       "      <td>11.500000</td>\n",
       "    </tr>\n",
       "    <tr>\n",
       "      <th>Buahbatu (Margacinta)</th>\n",
       "      <td>481628.521739</td>\n",
       "      <td>3.981695e+06</td>\n",
       "      <td>22.163043</td>\n",
       "      <td>23402.673913</td>\n",
       "      <td>14.989130</td>\n",
       "    </tr>\n",
       "    <tr>\n",
       "      <th>Bubutan</th>\n",
       "      <td>470408.951613</td>\n",
       "      <td>4.419997e+06</td>\n",
       "      <td>22.661290</td>\n",
       "      <td>36164.838710</td>\n",
       "      <td>12.693548</td>\n",
       "    </tr>\n",
       "    <tr>\n",
       "      <th>Bulak</th>\n",
       "      <td>358682.095238</td>\n",
       "      <td>5.110077e+06</td>\n",
       "      <td>32.952381</td>\n",
       "      <td>40584.285714</td>\n",
       "      <td>19.333333</td>\n",
       "    </tr>\n",
       "    <tr>\n",
       "      <th>Cakung</th>\n",
       "      <td>517525.597865</td>\n",
       "      <td>5.141606e+06</td>\n",
       "      <td>31.311388</td>\n",
       "      <td>34978.124555</td>\n",
       "      <td>14.466192</td>\n",
       "    </tr>\n",
       "    <tr>\n",
       "      <th>Cempaka Putih</th>\n",
       "      <td>357570.515152</td>\n",
       "      <td>4.659845e+06</td>\n",
       "      <td>30.924242</td>\n",
       "      <td>28393.727273</td>\n",
       "      <td>14.740260</td>\n",
       "    </tr>\n",
       "    <tr>\n",
       "      <th>Cengkareng</th>\n",
       "      <td>446257.872576</td>\n",
       "      <td>4.030906e+06</td>\n",
       "      <td>31.217452</td>\n",
       "      <td>31972.313019</td>\n",
       "      <td>17.091413</td>\n",
       "    </tr>\n",
       "    <tr>\n",
       "      <th>Cibeunying Kaler</th>\n",
       "      <td>425579.100000</td>\n",
       "      <td>3.199130e+06</td>\n",
       "      <td>22.375000</td>\n",
       "      <td>24647.500000</td>\n",
       "      <td>11.500000</td>\n",
       "    </tr>\n",
       "    <tr>\n",
       "      <th>Cibeunying Kidul</th>\n",
       "      <td>526978.928571</td>\n",
       "      <td>4.000534e+06</td>\n",
       "      <td>31.035714</td>\n",
       "      <td>28864.428571</td>\n",
       "      <td>13.571429</td>\n",
       "    </tr>\n",
       "    <tr>\n",
       "      <th>Cicendo</th>\n",
       "      <td>503049.211538</td>\n",
       "      <td>3.646462e+06</td>\n",
       "      <td>35.250000</td>\n",
       "      <td>40868.461538</td>\n",
       "      <td>15.750000</td>\n",
       "    </tr>\n",
       "    <tr>\n",
       "      <th>...</th>\n",
       "      <td>...</td>\n",
       "      <td>...</td>\n",
       "      <td>...</td>\n",
       "      <td>...</td>\n",
       "      <td>...</td>\n",
       "    </tr>\n",
       "    <tr>\n",
       "      <th>Sawahan</th>\n",
       "      <td>712864.674699</td>\n",
       "      <td>5.891393e+06</td>\n",
       "      <td>26.072289</td>\n",
       "      <td>27810.662651</td>\n",
       "      <td>12.698795</td>\n",
       "    </tr>\n",
       "    <tr>\n",
       "      <th>Sawangan</th>\n",
       "      <td>514793.700000</td>\n",
       "      <td>5.682503e+06</td>\n",
       "      <td>35.450000</td>\n",
       "      <td>25998.200000</td>\n",
       "      <td>12.700000</td>\n",
       "    </tr>\n",
       "    <tr>\n",
       "      <th>Semampir</th>\n",
       "      <td>545205.500000</td>\n",
       "      <td>3.893926e+06</td>\n",
       "      <td>110.000000</td>\n",
       "      <td>14150.000000</td>\n",
       "      <td>10.500000</td>\n",
       "    </tr>\n",
       "    <tr>\n",
       "      <th>Senen</th>\n",
       "      <td>461660.913242</td>\n",
       "      <td>4.571442e+06</td>\n",
       "      <td>30.511416</td>\n",
       "      <td>40334.894977</td>\n",
       "      <td>14.105023</td>\n",
       "    </tr>\n",
       "    <tr>\n",
       "      <th>Serpong</th>\n",
       "      <td>484883.908257</td>\n",
       "      <td>4.655058e+06</td>\n",
       "      <td>37.211009</td>\n",
       "      <td>65157.581040</td>\n",
       "      <td>18.211009</td>\n",
       "    </tr>\n",
       "    <tr>\n",
       "      <th>Serpong Utara</th>\n",
       "      <td>445489.342105</td>\n",
       "      <td>4.919625e+06</td>\n",
       "      <td>33.220395</td>\n",
       "      <td>43654.273026</td>\n",
       "      <td>13.809211</td>\n",
       "    </tr>\n",
       "    <tr>\n",
       "      <th>Setiabudi</th>\n",
       "      <td>379850.026173</td>\n",
       "      <td>4.190592e+06</td>\n",
       "      <td>33.606769</td>\n",
       "      <td>50271.752256</td>\n",
       "      <td>19.745487</td>\n",
       "    </tr>\n",
       "    <tr>\n",
       "      <th>Setu</th>\n",
       "      <td>621173.120000</td>\n",
       "      <td>5.416071e+06</td>\n",
       "      <td>46.320000</td>\n",
       "      <td>23482.848000</td>\n",
       "      <td>13.600000</td>\n",
       "    </tr>\n",
       "    <tr>\n",
       "      <th>Simokerto</th>\n",
       "      <td>612792.000000</td>\n",
       "      <td>5.221197e+06</td>\n",
       "      <td>23.571429</td>\n",
       "      <td>37041.428571</td>\n",
       "      <td>19.142857</td>\n",
       "    </tr>\n",
       "    <tr>\n",
       "      <th>Sukajadi</th>\n",
       "      <td>459726.612903</td>\n",
       "      <td>3.309328e+06</td>\n",
       "      <td>27.677419</td>\n",
       "      <td>28037.419355</td>\n",
       "      <td>16.000000</td>\n",
       "    </tr>\n",
       "    <tr>\n",
       "      <th>Sukasari</th>\n",
       "      <td>624994.333333</td>\n",
       "      <td>5.225583e+06</td>\n",
       "      <td>22.666667</td>\n",
       "      <td>111742.222222</td>\n",
       "      <td>11.666667</td>\n",
       "    </tr>\n",
       "    <tr>\n",
       "      <th>Sukmajaya</th>\n",
       "      <td>640106.071429</td>\n",
       "      <td>6.010304e+06</td>\n",
       "      <td>29.117857</td>\n",
       "      <td>25330.935714</td>\n",
       "      <td>13.278571</td>\n",
       "    </tr>\n",
       "    <tr>\n",
       "      <th>Sukolilo</th>\n",
       "      <td>483089.776119</td>\n",
       "      <td>4.269535e+06</td>\n",
       "      <td>29.477612</td>\n",
       "      <td>44425.223881</td>\n",
       "      <td>14.850746</td>\n",
       "    </tr>\n",
       "    <tr>\n",
       "      <th>Sukomanunggal</th>\n",
       "      <td>443418.565217</td>\n",
       "      <td>4.481411e+06</td>\n",
       "      <td>25.288043</td>\n",
       "      <td>42103.500000</td>\n",
       "      <td>18.467391</td>\n",
       "    </tr>\n",
       "    <tr>\n",
       "      <th>Sumur Bandung</th>\n",
       "      <td>474813.533333</td>\n",
       "      <td>2.869770e+06</td>\n",
       "      <td>23.977778</td>\n",
       "      <td>102739.688889</td>\n",
       "      <td>19.222222</td>\n",
       "    </tr>\n",
       "    <tr>\n",
       "      <th>Taman Sari</th>\n",
       "      <td>482352.166667</td>\n",
       "      <td>4.568102e+06</td>\n",
       "      <td>40.511905</td>\n",
       "      <td>32701.273810</td>\n",
       "      <td>15.952381</td>\n",
       "    </tr>\n",
       "    <tr>\n",
       "      <th>Tambaksari</th>\n",
       "      <td>446507.809524</td>\n",
       "      <td>4.197947e+06</td>\n",
       "      <td>42.416667</td>\n",
       "      <td>35429.619048</td>\n",
       "      <td>15.642857</td>\n",
       "    </tr>\n",
       "    <tr>\n",
       "      <th>Tambora</th>\n",
       "      <td>443468.000000</td>\n",
       "      <td>4.994347e+06</td>\n",
       "      <td>50.494681</td>\n",
       "      <td>35683.180851</td>\n",
       "      <td>16.117021</td>\n",
       "    </tr>\n",
       "    <tr>\n",
       "      <th>Tanah Abang</th>\n",
       "      <td>416024.818951</td>\n",
       "      <td>4.137506e+06</td>\n",
       "      <td>54.269036</td>\n",
       "      <td>69120.244501</td>\n",
       "      <td>21.004230</td>\n",
       "    </tr>\n",
       "    <tr>\n",
       "      <th>Tandes</th>\n",
       "      <td>536749.140000</td>\n",
       "      <td>4.520277e+06</td>\n",
       "      <td>26.020000</td>\n",
       "      <td>69155.540000</td>\n",
       "      <td>18.820000</td>\n",
       "    </tr>\n",
       "    <tr>\n",
       "      <th>Tangerang</th>\n",
       "      <td>437401.260069</td>\n",
       "      <td>4.760482e+06</td>\n",
       "      <td>26.983890</td>\n",
       "      <td>42390.040276</td>\n",
       "      <td>19.295742</td>\n",
       "    </tr>\n",
       "    <tr>\n",
       "      <th>Tanjung Priok</th>\n",
       "      <td>435006.949749</td>\n",
       "      <td>4.317910e+06</td>\n",
       "      <td>27.448492</td>\n",
       "      <td>39707.585427</td>\n",
       "      <td>17.974874</td>\n",
       "    </tr>\n",
       "    <tr>\n",
       "      <th>Tapos</th>\n",
       "      <td>519803.973262</td>\n",
       "      <td>5.035879e+06</td>\n",
       "      <td>23.655080</td>\n",
       "      <td>31984.065241</td>\n",
       "      <td>11.818182</td>\n",
       "    </tr>\n",
       "    <tr>\n",
       "      <th>Tebet</th>\n",
       "      <td>374135.370455</td>\n",
       "      <td>4.195173e+06</td>\n",
       "      <td>27.698977</td>\n",
       "      <td>42260.680455</td>\n",
       "      <td>17.405682</td>\n",
       "    </tr>\n",
       "    <tr>\n",
       "      <th>Tegalsari</th>\n",
       "      <td>563230.166667</td>\n",
       "      <td>4.389119e+06</td>\n",
       "      <td>27.444444</td>\n",
       "      <td>40609.138889</td>\n",
       "      <td>17.972222</td>\n",
       "    </tr>\n",
       "    <tr>\n",
       "      <th>Tenggilis Mejoyo</th>\n",
       "      <td>628385.893333</td>\n",
       "      <td>5.630395e+06</td>\n",
       "      <td>28.553333</td>\n",
       "      <td>37182.800000</td>\n",
       "      <td>15.293333</td>\n",
       "    </tr>\n",
       "    <tr>\n",
       "      <th>Ujung Berung</th>\n",
       "      <td>673822.818182</td>\n",
       "      <td>5.666527e+06</td>\n",
       "      <td>42.590909</td>\n",
       "      <td>30698.181818</td>\n",
       "      <td>15.000000</td>\n",
       "    </tr>\n",
       "    <tr>\n",
       "      <th>Wiyung</th>\n",
       "      <td>454522.875000</td>\n",
       "      <td>2.960582e+06</td>\n",
       "      <td>27.333333</td>\n",
       "      <td>45741.666667</td>\n",
       "      <td>14.583333</td>\n",
       "    </tr>\n",
       "    <tr>\n",
       "      <th>Wonocolo</th>\n",
       "      <td>436229.103448</td>\n",
       "      <td>5.156356e+06</td>\n",
       "      <td>22.896552</td>\n",
       "      <td>23056.965517</td>\n",
       "      <td>15.586207</td>\n",
       "    </tr>\n",
       "    <tr>\n",
       "      <th>Wonokromo</th>\n",
       "      <td>556917.038462</td>\n",
       "      <td>4.793076e+06</td>\n",
       "      <td>35.326923</td>\n",
       "      <td>26219.096154</td>\n",
       "      <td>16.692308</td>\n",
       "    </tr>\n",
       "  </tbody>\n",
       "</table>\n",
       "<p>132 rows × 5 columns</p>\n",
       "</div>"
      ],
      "text/plain": [
       "                         customer_id  ...  product_package\n",
       "district_name                         ...                 \n",
       "Andir                  561852.115385  ...        17.096154\n",
       "Antapani (Cicadas)     496651.841270  ...        11.968254\n",
       "Arcamanik              463656.428571  ...        11.571429\n",
       "Asemrowo               595742.833333  ...        13.500000\n",
       "Astana Anyar           528161.779661  ...        18.542373\n",
       "Babakan Ciparay        500492.965517  ...        23.034483\n",
       "Bandung Kidul          508169.288889  ...        18.888889\n",
       "Bandung Kulon          520630.744681  ...        18.134752\n",
       "Bandung Wetan          580256.937500  ...        12.875000\n",
       "Banten                 442865.567398  ...        13.529781\n",
       "Batununggal            597819.019011  ...        28.418251\n",
       "Beji                   601164.912281  ...        12.078947\n",
       "Bekasi Barat           391523.573913  ...        14.478261\n",
       "Bekasi Selatan         407328.302326  ...        15.604651\n",
       "Bekasi Timur           425589.308642  ...        18.802469\n",
       "Bekasi Utara           408769.272727  ...        14.943182\n",
       "Benowo                 821556.000000  ...        13.500000\n",
       "Bogor Timur            466179.917808  ...        13.027397\n",
       "Bojongloa Kaler        477103.576923  ...        16.846154\n",
       "Bojongloa Kidul        415125.459459  ...        16.108108\n",
       "Bojongsari             580108.642857  ...        11.500000\n",
       "Buahbatu (Margacinta)  481628.521739  ...        14.989130\n",
       "Bubutan                470408.951613  ...        12.693548\n",
       "Bulak                  358682.095238  ...        19.333333\n",
       "Cakung                 517525.597865  ...        14.466192\n",
       "Cempaka Putih          357570.515152  ...        14.740260\n",
       "Cengkareng             446257.872576  ...        17.091413\n",
       "Cibeunying Kaler       425579.100000  ...        11.500000\n",
       "Cibeunying Kidul       526978.928571  ...        13.571429\n",
       "Cicendo                503049.211538  ...        15.750000\n",
       "...                              ...  ...              ...\n",
       "Sawahan                712864.674699  ...        12.698795\n",
       "Sawangan               514793.700000  ...        12.700000\n",
       "Semampir               545205.500000  ...        10.500000\n",
       "Senen                  461660.913242  ...        14.105023\n",
       "Serpong                484883.908257  ...        18.211009\n",
       "Serpong Utara          445489.342105  ...        13.809211\n",
       "Setiabudi              379850.026173  ...        19.745487\n",
       "Setu                   621173.120000  ...        13.600000\n",
       "Simokerto              612792.000000  ...        19.142857\n",
       "Sukajadi               459726.612903  ...        16.000000\n",
       "Sukasari               624994.333333  ...        11.666667\n",
       "Sukmajaya              640106.071429  ...        13.278571\n",
       "Sukolilo               483089.776119  ...        14.850746\n",
       "Sukomanunggal          443418.565217  ...        18.467391\n",
       "Sumur Bandung          474813.533333  ...        19.222222\n",
       "Taman Sari             482352.166667  ...        15.952381\n",
       "Tambaksari             446507.809524  ...        15.642857\n",
       "Tambora                443468.000000  ...        16.117021\n",
       "Tanah Abang            416024.818951  ...        21.004230\n",
       "Tandes                 536749.140000  ...        18.820000\n",
       "Tangerang              437401.260069  ...        19.295742\n",
       "Tanjung Priok          435006.949749  ...        17.974874\n",
       "Tapos                  519803.973262  ...        11.818182\n",
       "Tebet                  374135.370455  ...        17.405682\n",
       "Tegalsari              563230.166667  ...        17.972222\n",
       "Tenggilis Mejoyo       628385.893333  ...        15.293333\n",
       "Ujung Berung           673822.818182  ...        15.000000\n",
       "Wiyung                 454522.875000  ...        14.583333\n",
       "Wonocolo               436229.103448  ...        15.586207\n",
       "Wonokromo              556917.038462  ...        16.692308\n",
       "\n",
       "[132 rows x 5 columns]"
      ]
     },
     "execution_count": 119,
     "metadata": {
      "tags": []
     },
     "output_type": "execute_result"
    }
   ],
   "source": [
    "grp_dis= data.groupby('district_name')\n",
    "grp_dis.mean()"
   ]
  },
  {
   "cell_type": "code",
   "execution_count": 0,
   "metadata": {
    "colab": {
     "base_uri": "https://localhost:8080/",
     "height": 323
    },
    "colab_type": "code",
    "id": "6BXWi0yAp2ZG",
    "outputId": "24499493-4ec4-40f1-c8f4-381a2b170358"
   },
   "outputs": [
    {
     "data": {
      "text/plain": [
       "Lotte Mart                   10236\n",
       "Super Indo                    7183\n",
       "Farmers Market                3804\n",
       "Grand Lucky                   2866\n",
       "Carrefour                     2704\n",
       "Ranch Market                  1989\n",
       "Tip Top                       1827\n",
       "Transmart Carrefour            822\n",
       "The FoodHall                   216\n",
       "Lotte Supermarket              173\n",
       "Transmart                      161\n",
       "Lotte Supermarket Bandung      110\n",
       "LOKA Supermarket               105\n",
       "Hokky                           31\n",
       "Super Indo Bandung              23\n",
       "All Fresh                       19\n",
       "Papaya Fresh Gallery            15\n",
       "Name: supplier_name, dtype: int64"
      ]
     },
     "execution_count": 72,
     "metadata": {
      "tags": []
     },
     "output_type": "execute_result"
    }
   ],
   "source": [
    "data[\"supplier_name\"].value_counts()"
   ]
  },
  {
   "cell_type": "code",
   "execution_count": 0,
   "metadata": {
    "colab": {
     "base_uri": "https://localhost:8080/",
     "height": 308
    },
    "colab_type": "code",
    "id": "N8U6rVqyUVOg",
    "outputId": "f6083f5e-12b0-4681-faf6-0078eb4028d1"
   },
   "outputs": [
    {
     "data": {
      "text/plain": [
       "<matplotlib.axes._subplots.AxesSubplot at 0x7f5b4de80438>"
      ]
     },
     "execution_count": 102,
     "metadata": {
      "tags": []
     },
     "output_type": "execute_result"
    },
    {
     "data": {
      "image/png": "[encoded data removed]",
      "text/plain": [
       "<Figure size 432x288 with 1 Axes>"
      ]
     },
     "metadata": {
      "tags": []
     },
     "output_type": "display_data"
    }
   ],
   "source": [
    "sns.barplot(data.supplier_name, data.final_price,color = 'orange')"
   ]
  },
  {
   "cell_type": "code",
   "execution_count": 0,
   "metadata": {
    "colab": {
     "base_uri": "https://localhost:8080/",
     "height": 731
    },
    "colab_type": "code",
    "id": "3fsTrphLp2ev",
    "outputId": "b03ffc23-fb7d-4b40-eaf3-74a4456bc37d"
   },
   "outputs": [
    {
     "data": {
      "text/plain": [
       "Luwak                  7018\n",
       "Good Day               5776\n",
       "Indocafe               4556\n",
       "Torabika               3561\n",
       "Nescafé                2968\n",
       "ABC                    2957\n",
       "Kapal Api              1840\n",
       "Top Coffee              976\n",
       "Top                     407\n",
       "Kopiko                  407\n",
       "Fresco                  321\n",
       "Esprecielo              317\n",
       "Tropicana Slim          277\n",
       "OldTown                 261\n",
       "ChekHup                 159\n",
       "JJ Royal                147\n",
       "Aik Cheong               70\n",
       "UCC                      41\n",
       "Mi-Won                   36\n",
       "Choice L                 28\n",
       "Owl                      24\n",
       "Anget Sari               23\n",
       "Club House               23\n",
       "Singa                    20\n",
       "Sido Muncul              14\n",
       "Coffee 7                  9\n",
       "Gold Choice               7\n",
       "Javabica                  7\n",
       "Exotico                   5\n",
       "Caffe D'Vita              5\n",
       "Kepala Djenggot           4\n",
       "Mybio                     4\n",
       "Herbadrink                3\n",
       "Suncrest                  2\n",
       "Pipiltin Cocoa            2\n",
       "Ah Huat                   2\n",
       "Ya!                       2\n",
       "Super                     2\n",
       "BOH                       1\n",
       "Swallow Globe Brand       1\n",
       "Nescafe                   1\n",
       "Name: brand, dtype: int64"
      ]
     },
     "execution_count": 97,
     "metadata": {
      "tags": []
     },
     "output_type": "execute_result"
    }
   ],
   "source": [
    "data[\"brand\"].value_counts()"
   ]
  },
  {
   "cell_type": "code",
   "execution_count": 0,
   "metadata": {
    "colab": {
     "base_uri": "https://localhost:8080/",
     "height": 308
    },
    "colab_type": "code",
    "id": "R09l2TiXZdHv",
    "outputId": "25bbe3b5-67b4-4af9-b8c9-7d66965d2271"
   },
   "outputs": [
    {
     "data": {
      "text/plain": [
       "<matplotlib.axes._subplots.AxesSubplot at 0x7f5b5853c438>"
      ]
     },
     "execution_count": 124,
     "metadata": {
      "tags": []
     },
     "output_type": "execute_result"
    },
    {
     "data": {
      "image/png": "[encoded data removed]",
      "text/plain": [
       "<Figure size 432x288 with 1 Axes>"
      ]
     },
     "metadata": {
      "tags": []
     },
     "output_type": "display_data"
    }
   ],
   "source": [
    "sns.barplot(data.brand, data.final_price,color = 'purple')"
   ]
  },
  {
   "cell_type": "code",
   "execution_count": 0,
   "metadata": {
    "colab": {
     "base_uri": "https://localhost:8080/",
     "height": 663
    },
    "colab_type": "code",
    "id": "C2kGSzpHp2mI",
    "outputId": "8e504d7c-7128-4553-be95-be2e01cdbc80"
   },
   "outputs": [
    {
     "data": {
      "text/plain": [
       "20.0     17394\n",
       "25.0      4494\n",
       "31.0      2716\n",
       "30.0      1810\n",
       "17.5       707\n",
       "240.0      682\n",
       "21.0       570\n",
       "200.0      442\n",
       "28.0       336\n",
       "40.0       317\n",
       "27.0       286\n",
       "23.0       280\n",
       "250.0      255\n",
       "14.0       253\n",
       "24.0       244\n",
       "12.0       236\n",
       "37.0       206\n",
       "5.0        205\n",
       "8.0        189\n",
       "18.0       174\n",
       "35.0       109\n",
       "36.0        64\n",
       "100.0       59\n",
       "230.0       57\n",
       "26.0        53\n",
       "46.0        42\n",
       "1.0         33\n",
       "19.5        22\n",
       "22.5        22\n",
       "17.0         7\n",
       "453.0        5\n",
       "4.6          5\n",
       "34.0         4\n",
       "80.0         2\n",
       "115.0        2\n",
       "22.0         1\n",
       "32.0         1\n",
       "Name: product_size, dtype: int64"
      ]
     },
     "execution_count": 76,
     "metadata": {
      "tags": []
     },
     "output_type": "execute_result"
    }
   ],
   "source": [
    "data[\"product_size\"].value_counts()"
   ]
  },
  {
   "cell_type": "code",
   "execution_count": 0,
   "metadata": {
    "colab": {
     "base_uri": "https://localhost:8080/",
     "height": 308
    },
    "colab_type": "code",
    "id": "Hzyg-uvNVCW2",
    "outputId": "b4d140c3-6056-4f9c-be72-50628a271799"
   },
   "outputs": [
    {
     "data": {
      "text/plain": [
       "<matplotlib.axes._subplots.AxesSubplot at 0x7f5b48ebf978>"
      ]
     },
     "execution_count": 105,
     "metadata": {
      "tags": []
     },
     "output_type": "execute_result"
    },
    {
     "data": {
      "image/png": "[encoded data removed]",
      "text/plain": [
       "<Figure size 432x288 with 1 Axes>"
      ]
     },
     "metadata": {
      "tags": []
     },
     "output_type": "display_data"
    }
   ],
   "source": [
    "sns.barplot(data.product_size, data.final_price,color = 'blue')"
   ]
  },
  {
   "cell_type": "code",
   "execution_count": 0,
   "metadata": {
    "colab": {
     "base_uri": "https://localhost:8080/",
     "height": 34
    },
    "colab_type": "code",
    "id": "xYsW15uO8Xvw",
    "outputId": "fb36ebd1-f8c3-4ee4-be52-f603bd536386"
   },
   "outputs": [
    {
     "data": {
      "text/plain": [
       "31.998900384091186"
      ]
     },
     "execution_count": 77,
     "metadata": {
      "tags": []
     },
     "output_type": "execute_result"
    }
   ],
   "source": [
    "data[\"product_size\"].mean()"
   ]
  },
  {
   "cell_type": "code",
   "execution_count": 0,
   "metadata": {
    "colab": {
     "base_uri": "https://localhost:8080/",
     "height": 102
    },
    "colab_type": "code",
    "id": "769j1BvFp2p_",
    "outputId": "88bdd3dd-47dc-4e00-8bf9-f4792b0b52c2"
   },
   "outputs": [
    {
     "data": {
      "text/plain": [
       "g         30983\n",
       "ml         1268\n",
       "bundle       20\n",
       "packet       13\n",
       "Name: product_unit, dtype: int64"
      ]
     },
     "execution_count": 78,
     "metadata": {
      "tags": []
     },
     "output_type": "execute_result"
    }
   ],
   "source": [
    "data[\"product_unit\"].value_counts()"
   ]
  },
  {
   "cell_type": "code",
   "execution_count": 126,
   "metadata": {
    "colab": {
     "base_uri": "https://localhost:8080/",
     "height": 291
    },
    "colab_type": "code",
    "id": "YxrZegIoa1MJ",
    "outputId": "47295c3b-d8e8-4c40-94bd-1188013a8cab"
   },
   "outputs": [
    {
     "data": {
      "image/png": "[encoded data removed]",
      "text/plain": [
       "<Figure size 432x288 with 1 Axes>"
      ]
     },
     "metadata": {
      "tags": []
     },
     "output_type": "display_data"
    }
   ],
   "source": [
    "sns.boxplot(x='product_unit',y='final_price', data=data)\n",
    "plt.show()"
   ]
  },
  {
   "cell_type": "code",
   "execution_count": 0,
   "metadata": {
    "colab": {
     "base_uri": "https://localhost:8080/",
     "height": 308
    },
    "colab_type": "code",
    "id": "aa3vTuFOICI_",
    "outputId": "bdd2be54-a19d-4f6f-e62c-490d691d69f3"
   },
   "outputs": [
    {
     "data": {
      "text/plain": [
       "<matplotlib.axes._subplots.AxesSubplot at 0x7f5b508ff7f0>"
      ]
     },
     "execution_count": 79,
     "metadata": {
      "tags": []
     },
     "output_type": "execute_result"
    },
    {
     "data": {
      "image/png": "[encoded data removed]",
      "text/plain": [
       "<Figure size 432x288 with 1 Axes>"
      ]
     },
     "metadata": {
      "tags": []
     },
     "output_type": "display_data"
    }
   ],
   "source": [
    "sns.countplot(x = 'product_unit', data = data)"
   ]
  },
  {
   "cell_type": "code",
   "execution_count": 0,
   "metadata": {
    "colab": {
     "base_uri": "https://localhost:8080/",
     "height": 308
    },
    "colab_type": "code",
    "id": "jrK84B3YT6-g",
    "outputId": "a98f5a74-d92d-451f-dad2-4bc5e9464441"
   },
   "outputs": [
    {
     "data": {
      "text/plain": [
       "<function matplotlib.pyplot.show>"
      ]
     },
     "execution_count": 100,
     "metadata": {
      "tags": []
     },
     "output_type": "execute_result"
    },
    {
     "data": {
      "image/png": "[encoded data removed]",
      "text/plain": [
       "<Figure size 432x288 with 1 Axes>"
      ]
     },
     "metadata": {
      "tags": []
     },
     "output_type": "display_data"
    }
   ],
   "source": [
    "sns.barplot(data.product_unit, data.final_price,color = 'red')\n",
    "plt.show"
   ]
  },
  {
   "cell_type": "code",
   "execution_count": 0,
   "metadata": {
    "colab": {
     "base_uri": "https://localhost:8080/",
     "height": 1000
    },
    "colab_type": "code",
    "id": "ulTp_WKhp2t_",
    "outputId": "18bb4098-575e-4c34-a3a4-c95afc6e1718"
   },
   "outputs": [
    {
     "data": {
      "text/plain": [
       "29700.0     234\n",
       "28700.0     219\n",
       "26500.0     210\n",
       "30000.0     193\n",
       "27900.0     187\n",
       "19500.0     164\n",
       "20000.0     158\n",
       "12500.0     157\n",
       "27300.0     156\n",
       "6700.0      145\n",
       "30800.0     140\n",
       "20500.0     137\n",
       "47000.0     133\n",
       "82242.0     133\n",
       "44900.0     127\n",
       "14000.0     127\n",
       "7100.0      126\n",
       "12900.0     125\n",
       "39200.0     124\n",
       "13500.0     123\n",
       "23700.0     120\n",
       "21500.0     119\n",
       "28900.0     114\n",
       "24300.0     114\n",
       "24800.0     114\n",
       "21000.0     112\n",
       "25200.0     110\n",
       "22600.0     110\n",
       "18900.0     109\n",
       "15100.0     108\n",
       "           ... \n",
       "69520.0       1\n",
       "43470.0       1\n",
       "84600.0       1\n",
       "436100.0      1\n",
       "163960.0      1\n",
       "741200.0      1\n",
       "52470.0       1\n",
       "16190.0       1\n",
       "77100.0       1\n",
       "6475.0        1\n",
       "160400.0      1\n",
       "87800.0       1\n",
       "128400.0      1\n",
       "209900.0      1\n",
       "48380.0       1\n",
       "52690.0       1\n",
       "446500.0      1\n",
       "81980.0       1\n",
       "88720.0       1\n",
       "37180.0       1\n",
       "149500.0      1\n",
       "95400.0       1\n",
       "338000.0      1\n",
       "123900.0      1\n",
       "84510.0       1\n",
       "47300.0       1\n",
       "118400.0      1\n",
       "106800.0      1\n",
       "133100.0      1\n",
       "115000.0      1\n",
       "Name: final_price, Length: 2539, dtype: int64"
      ]
     },
     "execution_count": 80,
     "metadata": {
      "tags": []
     },
     "output_type": "execute_result"
    }
   ],
   "source": [
    "data[\"final_price\"].value_counts()"
   ]
  },
  {
   "cell_type": "code",
   "execution_count": 0,
   "metadata": {
    "colab": {
     "base_uri": "https://localhost:8080/",
     "height": 308
    },
    "colab_type": "code",
    "id": "ALTz5WKvIGNX",
    "outputId": "ebde86e0-211d-4a97-c2f6-4a81185f63b7"
   },
   "outputs": [
    {
     "data": {
      "text/plain": [
       "<matplotlib.axes._subplots.AxesSubplot at 0x7f5b55e28cc0>"
      ]
     },
     "execution_count": 56,
     "metadata": {
      "tags": []
     },
     "output_type": "execute_result"
    },
    {
     "data": {
      "image/png": "[encoded data removed]",
      "text/plain": [
       "<Figure size 432x288 with 1 Axes>"
      ]
     },
     "metadata": {
      "tags": []
     },
     "output_type": "display_data"
    }
   ],
   "source": [
    "sns.countplot(x = 'final_price', data = data)"
   ]
  },
  {
   "cell_type": "code",
   "execution_count": 0,
   "metadata": {
    "colab": {
     "base_uri": "https://localhost:8080/",
     "height": 34
    },
    "colab_type": "code",
    "id": "0HCSkbwP8cfA",
    "outputId": "474fada7-d090-441a-aa9a-b76654497704"
   },
   "outputs": [
    {
     "data": {
      "text/plain": [
       "47103.324687151544"
      ]
     },
     "execution_count": 81,
     "metadata": {
      "tags": []
     },
     "output_type": "execute_result"
    }
   ],
   "source": [
    "data[\"final_price\"].mean()"
   ]
  },
  {
   "cell_type": "code",
   "execution_count": 0,
   "metadata": {
    "colab": {
     "base_uri": "https://localhost:8080/",
     "height": 34
    },
    "colab_type": "code",
    "id": "2Wgv3d2pOLyk",
    "outputId": "9a33c1fb-c133-4456-e020-89209ddac4c7"
   },
   "outputs": [
    {
     "data": {
      "text/plain": [
       "27900.0"
      ]
     },
     "execution_count": 91,
     "metadata": {
      "tags": []
     },
     "output_type": "execute_result"
    }
   ],
   "source": [
    "data[\"final_price\"].median()"
   ]
  },
  {
   "cell_type": "code",
   "execution_count": 0,
   "metadata": {
    "colab": {
     "base_uri": "https://localhost:8080/",
     "height": 34
    },
    "colab_type": "code",
    "id": "G_FfCYTHOOZU",
    "outputId": "ecdcaf95-66cd-4018-f56f-d51d87d2b28d"
   },
   "outputs": [
    {
     "data": {
      "text/plain": [
       "91354.45944519012"
      ]
     },
     "execution_count": 92,
     "metadata": {
      "tags": []
     },
     "output_type": "execute_result"
    }
   ],
   "source": [
    "data[\"final_price\"].std()"
   ]
  },
  {
   "cell_type": "code",
   "execution_count": 0,
   "metadata": {
    "colab": {
     "base_uri": "https://localhost:8080/",
     "height": 323
    },
    "colab_type": "code",
    "id": "4xI3-OnMp2xP",
    "outputId": "9e4da172-c718-4966-9e6c-c9ce62bd494b"
   },
   "outputs": [
    {
     "data": {
      "text/plain": [
       "20.0     9683\n",
       "10.0     9116\n",
       "30.0     3946\n",
       "5.0      3371\n",
       "15.0     1676\n",
       "1.0      1545\n",
       "12.0      959\n",
       "100.0     829\n",
       "18.0      323\n",
       "14.0      313\n",
       "50.0      194\n",
       "24.0      126\n",
       "2.0       113\n",
       "4.0        35\n",
       "8.0        32\n",
       "25.0       14\n",
       "6.0         9\n",
       "Name: product_package, dtype: int64"
      ]
     },
     "execution_count": 82,
     "metadata": {
      "tags": []
     },
     "output_type": "execute_result"
    }
   ],
   "source": [
    "data[\"product_package\"].value_counts()"
   ]
  },
  {
   "cell_type": "code",
   "execution_count": 0,
   "metadata": {
    "colab": {
     "base_uri": "https://localhost:8080/",
     "height": 134
    },
    "colab_type": "code",
    "id": "B8l-1dv6VtyM",
    "outputId": "99278683-1e8d-42c5-cede-9bb971e4dc7d"
   },
   "outputs": [
    {
     "data": {
      "text/html": [
       "<div>\n",
       "<style scoped>\n",
       "    .dataframe tbody tr th:only-of-type {\n",
       "        vertical-align: middle;\n",
       "    }\n",
       "\n",
       "    .dataframe tbody tr th {\n",
       "        vertical-align: top;\n",
       "    }\n",
       "\n",
       "    .dataframe thead th {\n",
       "        text-align: right;\n",
       "    }\n",
       "</style>\n",
       "<table border=\"1\" class=\"dataframe\">\n",
       "  <thead>\n",
       "    <tr style=\"text-align: right;\">\n",
       "      <th></th>\n",
       "      <th>sku</th>\n",
       "      <th>customer_id</th>\n",
       "      <th>state_name</th>\n",
       "      <th>district_name</th>\n",
       "      <th>order_id</th>\n",
       "      <th>order_delivered_date</th>\n",
       "      <th>supplier_name</th>\n",
       "      <th>stock_location_name</th>\n",
       "      <th>brand</th>\n",
       "      <th>product_name</th>\n",
       "      <th>product_size</th>\n",
       "      <th>product_unit</th>\n",
       "      <th>final_price</th>\n",
       "      <th>product_package</th>\n",
       "      <th>product</th>\n",
       "    </tr>\n",
       "  </thead>\n",
       "  <tbody>\n",
       "    <tr>\n",
       "      <th>1</th>\n",
       "      <td>8991002101630-ID</td>\n",
       "      <td>574548</td>\n",
       "      <td>Bekasi</td>\n",
       "      <td>Bekasi Selatan</td>\n",
       "      <td>4289963</td>\n",
       "      <td>2017/10/23 00:00:00.000</td>\n",
       "      <td>Super Indo</td>\n",
       "      <td>Super Indo Kincan</td>\n",
       "      <td>ABC</td>\n",
       "      <td>ABC Instant Powdered Milk Coffee</td>\n",
       "      <td>31.0</td>\n",
       "      <td>g</td>\n",
       "      <td>33300.0</td>\n",
       "      <td>10.0</td>\n",
       "      <td>ABC Instant Powdered Milk Coffee_31.0_g_10.0</td>\n",
       "    </tr>\n",
       "  </tbody>\n",
       "</table>\n",
       "</div>"
      ],
      "text/plain": [
       "                sku  ...                                       product\n",
       "1  8991002101630-ID  ...  ABC Instant Powdered Milk Coffee_31.0_g_10.0\n",
       "\n",
       "[1 rows x 15 columns]"
      ]
     },
     "execution_count": 107,
     "metadata": {
      "tags": []
     },
     "output_type": "execute_result"
    }
   ],
   "source": [
    "data.head(1)"
   ]
  },
  {
   "cell_type": "code",
   "execution_count": 0,
   "metadata": {
    "colab": {
     "base_uri": "https://localhost:8080/",
     "height": 437
    },
    "colab_type": "code",
    "id": "CLLSneQPVTjp",
    "outputId": "cdbdbbb8-52ce-48a5-dacd-5dcf6040587d"
   },
   "outputs": [
    {
     "data": {
      "image/png": "[encoded data removed]",
      "text/plain": [
       "<Figure size 432x432 with 3 Axes>"
      ]
     },
     "metadata": {
      "tags": []
     },
     "output_type": "display_data"
    }
   ],
   "source": [
    "sns.jointplot(data.product_package,data.final_price, kind = \"hex\")   \n",
    "plt.show()"
   ]
  },
  {
   "cell_type": "code",
   "execution_count": 0,
   "metadata": {
    "colab": {
     "base_uri": "https://localhost:8080/",
     "height": 328
    },
    "colab_type": "code",
    "id": "cVr9TlELp23O",
    "outputId": "efba15cf-ad48-438b-de47-b66fab8c2055"
   },
   "outputs": [
    {
     "name": "stderr",
     "output_type": "stream",
     "text": [
      "'c' argument looks like a single numeric RGB or RGBA sequence, which should be avoided as value-mapping will have precedence in case its length matches with 'x' & 'y'.  Please use a 2-D array with a single row if you really want to specify the same RGB or RGBA value for all points.\n"
     ]
    },
    {
     "data": {
      "image/png": "[encoded data removed]",
      "text/plain": [
       "<Figure size 432x288 with 1 Axes>"
      ]
     },
     "metadata": {
      "tags": []
     },
     "output_type": "display_data"
    }
   ],
   "source": [
    "data.plot(kind='scatter', x='product_package', y='final_price') ;\n",
    "plt.show()"
   ]
  },
  {
   "cell_type": "code",
   "execution_count": 0,
   "metadata": {
    "colab": {
     "base_uri": "https://localhost:8080/",
     "height": 291
    },
    "colab_type": "code",
    "id": "kJsU7d2Rp3EJ",
    "outputId": "d6a4b8fd-f481-4307-f4a6-897de1795568"
   },
   "outputs": [
    {
     "data": {
      "image/png": "[encoded data removed]",
      "text/plain": [
       "<Figure size 432x288 with 1 Axes>"
      ]
     },
     "metadata": {
      "tags": []
     },
     "output_type": "display_data"
    }
   ],
   "source": [
    "sns.boxplot(x='product_package',y='final_price', data=data)\n",
    "plt.show()"
   ]
  },
  {
   "cell_type": "code",
   "execution_count": 0,
   "metadata": {
    "colab": {
     "base_uri": "https://localhost:8080/",
     "height": 291
    },
    "colab_type": "code",
    "id": "ZIyl7ydip3H3",
    "outputId": "ccd47ded-1369-4a38-cbce-a09a2a0b87b7"
   },
   "outputs": [
    {
     "data": {
      "image/png": "[encoded data removed]",
      "text/plain": [
       "<Figure size 432x288 with 1 Axes>"
      ]
     },
     "metadata": {
      "tags": []
     },
     "output_type": "display_data"
    }
   ],
   "source": [
    "sns.boxplot(x='state_name',y='final_price', data=data)\n",
    "plt.show()"
   ]
  },
  {
   "cell_type": "code",
   "execution_count": 0,
   "metadata": {
    "colab": {
     "base_uri": "https://localhost:8080/",
     "height": 291
    },
    "colab_type": "code",
    "id": "jBJfX7nMp2vm",
    "outputId": "18845c8f-832e-4252-9d00-126e53acd47e"
   },
   "outputs": [
    {
     "data": {
      "image/png": "[encoded data removed]",
      "text/plain": [
       "<Figure size 432x288 with 1 Axes>"
      ]
     },
     "metadata": {
      "tags": []
     },
     "output_type": "display_data"
    }
   ],
   "source": [
    "sns.violinplot(x='product_unit',y='final_price', data=data)\n",
    "plt.show()"
   ]
  },
  {
   "cell_type": "code",
   "execution_count": 0,
   "metadata": {
    "colab": {
     "base_uri": "https://localhost:8080/",
     "height": 291
    },
    "colab_type": "code",
    "id": "XiDpkaaS7fdk",
    "outputId": "29b2b052-4a7d-450e-abe2-ed05a089d3d8"
   },
   "outputs": [
    {
     "data": {
      "text/plain": [
       "<matplotlib.axes._subplots.AxesSubplot at 0x7f5b539b5d30>"
      ]
     },
     "execution_count": 89,
     "metadata": {
      "tags": []
     },
     "output_type": "execute_result"
    },
    {
     "data": {
      "image/png": "[encoded data removed]",
      "text/plain": [
       "<Figure size 432x288 with 1 Axes>"
      ]
     },
     "metadata": {
      "tags": []
     },
     "output_type": "display_data"
    }
   ],
   "source": [
    "data['product_size'].plot.hist()"
   ]
  },
  {
   "cell_type": "code",
   "execution_count": 0,
   "metadata": {
    "colab": {
     "base_uri": "https://localhost:8080/",
     "height": 308
    },
    "colab_type": "code",
    "id": "JPfKqXJY7fg1",
    "outputId": "4ec8efed-22e5-4563-90e4-d55fa9b736cb"
   },
   "outputs": [
    {
     "data": {
      "text/plain": [
       "<matplotlib.axes._subplots.AxesSubplot at 0x7f5b532a2208>"
      ]
     },
     "execution_count": 90,
     "metadata": {
      "tags": []
     },
     "output_type": "execute_result"
    },
    {
     "data": {
      "image/png": "[encoded data removed]",
      "text/plain": [
       "<Figure size 432x288 with 1 Axes>"
      ]
     },
     "metadata": {
      "tags": []
     },
     "output_type": "display_data"
    }
   ],
   "source": [
    "sns.countplot(x = 'product_unit', data = data)"
   ]
  },
  {
   "cell_type": "code",
   "execution_count": 0,
   "metadata": {
    "colab": {},
    "colab_type": "code",
    "id": "jWckOmOl7foh"
   },
   "outputs": [],
   "source": []
  },
  {
   "cell_type": "code",
   "execution_count": 0,
   "metadata": {
    "colab": {},
    "colab_type": "code",
    "id": "UvfWvUpCTjHp"
   },
   "outputs": [],
   "source": []
  }
 ],
 "metadata": {
  "colab": {
   "name": "Assignment_aisensum",
   "provenance": [],
   "version": "0.3.2"
  },
  "kernelspec": {
   "display_name": "Python 3",
   "language": "python",
   "name": "python3"
  },
  "language_info": {
   "codemirror_mode": {
    "name": "ipython",
    "version": 3
   },
   "file_extension": ".py",
   "mimetype": "text/x-python",
   "name": "python",
   "nbconvert_exporter": "python",
   "pygments_lexer": "ipython3",
   "version": "3.6.4"
  }
 },
 "nbformat": 4,
 "nbformat_minor": 1
}
